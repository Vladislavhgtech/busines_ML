{
 "cells": [
  {
   "cell_type": "markdown",
   "metadata": {},
   "source": [
    "# Домашняя работа №2"
   ]
  },
  {
   "cell_type": "markdown",
   "metadata": {},
   "source": [
    "#### 1. Самостоятельно разобраться с тем, что такое tfidf"
   ]
  },
  {
   "cell_type": "markdown",
   "metadata": {},
   "source": [
    "Описываю так, как я это понял. Поправьие меня, пожалуйста, если что-то не так.\n",
    "\n",
    "Для анализ смысла текста применяются методики частотного скорринга. Они основаны на подсчете количества слов в тексте, например:\n",
    "1. Простым суммированием, т.е. сколько раз каждое слово встречается в документеи\n",
    "2. Или подсчитывается, как часто каждое слово встречается в тексте по отношению к общему количеству слов.\n",
    " \n",
    " Такая методика обоснована, но тут возникает проблема. Часто бывает так, что в текстах наиболее часто встречающеся слова не описывают смысл текста. Смысл кроется в менее часто встречающихся словах. Поэтому требуется оценить значимость слов в тексте.\n",
    " \n",
    " TF-IDF (сокращение от term frequency — inverse document frequency) – это статистическая мера для оценки важности слова в документе.\n",
    " \n",
    " TF - отношение числа вхождений слова к общему числу слов документа.\n",
    " IDF - это десятичныйлогарифм от боратной величины TF\n",
    " \n",
    " Следовательно TFIDF=TF*IDF\n"
   ]
  },
  {
   "cell_type": "markdown",
   "metadata": {
    "id": "WzuSTYNF6UkW"
   },
   "source": [
    "#### 2. Модифицировать код функции get_user_embedding таким образом, чтобы считалось не среднее (как в примере np.mean), а медиана. Применить такое преобразование к данным, обучить модель прогнозирования оттока и посчитать метрики качества и сохранить их: roc auc, precision/recall/f_score (для 3 последних - подобрать оптимальный порог с помощью precision_recall_curve, как это делалось на уроке)"
   ]
  },
  {
   "cell_type": "markdown",
   "metadata": {},
   "source": [
    "#### Для оценки изменения качества модели за счет модификации функции get_user_embedding, для начала повторим модель, которая была на занятии. "
   ]
  },
  {
   "cell_type": "code",
   "execution_count": 28,
   "metadata": {
    "id": "K5FuhY076JYL"
   },
   "outputs": [],
   "source": [
    "#импортируем необходимые библиотеки\n",
    "\n",
    "import re\n",
    "import numpy as np\n",
    "from nltk.corpus import stopwords\n",
    "from razdel import tokenize\n",
    "from gensim.corpora.dictionary import Dictionary\n",
    "\n",
    "import pymorphy2  # pip install pymorphy2\n",
    "import pandas as pd\n",
    "import numpy as np\n",
    "from sklearn.linear_model import LogisticRegression\n",
    "from sklearn.model_selection import train_test_split\n",
    "import itertools\n",
    "from sklearn.metrics import f1_score, roc_auc_score, precision_score, classification_report, precision_recall_curve, confusion_matrix\n",
    "\n",
    "import matplotlib.pyplot as plt\n",
    "\n",
    "%matplotlib inline"
   ]
  },
  {
   "cell_type": "code",
   "execution_count": 29,
   "metadata": {
    "colab": {
     "base_uri": "https://localhost:8080/",
     "height": 159
    },
    "id": "cldcsKT16edu",
    "outputId": "297ae7d4-787e-4149-d97e-e2adf8781471"
   },
   "outputs": [
    {
     "name": "stdout",
     "output_type": "stream",
     "text": [
      "(27000, 2)\n"
     ]
    },
    {
     "data": {
      "text/html": [
       "<div>\n",
       "<style scoped>\n",
       "    .dataframe tbody tr th:only-of-type {\n",
       "        vertical-align: middle;\n",
       "    }\n",
       "\n",
       "    .dataframe tbody tr th {\n",
       "        vertical-align: top;\n",
       "    }\n",
       "\n",
       "    .dataframe thead th {\n",
       "        text-align: right;\n",
       "    }\n",
       "</style>\n",
       "<table border=\"1\" class=\"dataframe\">\n",
       "  <thead>\n",
       "    <tr style=\"text-align: right;\">\n",
       "      <th></th>\n",
       "      <th>doc_id</th>\n",
       "      <th>title</th>\n",
       "    </tr>\n",
       "  </thead>\n",
       "  <tbody>\n",
       "    <tr>\n",
       "      <th>0</th>\n",
       "      <td>6</td>\n",
       "      <td>Заместитель председателяnправительства РФnСерг...</td>\n",
       "    </tr>\n",
       "    <tr>\n",
       "      <th>1</th>\n",
       "      <td>4896</td>\n",
       "      <td>Матч 1/16 финала Кубка России по футболу был п...</td>\n",
       "    </tr>\n",
       "    <tr>\n",
       "      <th>2</th>\n",
       "      <td>4897</td>\n",
       "      <td>Форвард «Авангарда» Томаш Заборский прокоммент...</td>\n",
       "    </tr>\n",
       "  </tbody>\n",
       "</table>\n",
       "</div>"
      ],
      "text/plain": [
       "   doc_id                                              title\n",
       "0       6  Заместитель председателяnправительства РФnСерг...\n",
       "1    4896  Матч 1/16 финала Кубка России по футболу был п...\n",
       "2    4897  Форвард «Авангарда» Томаш Заборский прокоммент..."
      ]
     },
     "execution_count": 29,
     "metadata": {},
     "output_type": "execute_result"
    }
   ],
   "source": [
    "#загружаем Датасет с новостями\n",
    "news = pd.read_csv(\"articles.csv\")\n",
    "print(news.shape)\n",
    "news.head(3)"
   ]
  },
  {
   "cell_type": "code",
   "execution_count": 30,
   "metadata": {
    "colab": {
     "base_uri": "https://localhost:8080/",
     "height": 142
    },
    "id": "z68Uwgk37LmI",
    "outputId": "e7361454-3856-4e4f-bb5b-4cbbd9f068b8"
   },
   "outputs": [
    {
     "data": {
      "text/html": [
       "<div>\n",
       "<style scoped>\n",
       "    .dataframe tbody tr th:only-of-type {\n",
       "        vertical-align: middle;\n",
       "    }\n",
       "\n",
       "    .dataframe tbody tr th {\n",
       "        vertical-align: top;\n",
       "    }\n",
       "\n",
       "    .dataframe thead th {\n",
       "        text-align: right;\n",
       "    }\n",
       "</style>\n",
       "<table border=\"1\" class=\"dataframe\">\n",
       "  <thead>\n",
       "    <tr style=\"text-align: right;\">\n",
       "      <th></th>\n",
       "      <th>uid</th>\n",
       "      <th>articles</th>\n",
       "    </tr>\n",
       "  </thead>\n",
       "  <tbody>\n",
       "    <tr>\n",
       "      <th>0</th>\n",
       "      <td>u105138</td>\n",
       "      <td>[293672, 293328, 293001, 293622, 293126, 1852]</td>\n",
       "    </tr>\n",
       "    <tr>\n",
       "      <th>1</th>\n",
       "      <td>u108690</td>\n",
       "      <td>[3405, 1739, 2972, 1158, 1599, 322665]</td>\n",
       "    </tr>\n",
       "    <tr>\n",
       "      <th>2</th>\n",
       "      <td>u108339</td>\n",
       "      <td>[1845, 2009, 2356, 1424, 2939, 323389]</td>\n",
       "    </tr>\n",
       "  </tbody>\n",
       "</table>\n",
       "</div>"
      ],
      "text/plain": [
       "       uid                                        articles\n",
       "0  u105138  [293672, 293328, 293001, 293622, 293126, 1852]\n",
       "1  u108690          [3405, 1739, 2972, 1158, 1599, 322665]\n",
       "2  u108339          [1845, 2009, 2356, 1424, 2939, 323389]"
      ]
     },
     "execution_count": 30,
     "metadata": {},
     "output_type": "execute_result"
    }
   ],
   "source": [
    "#загружаем Датасет с пользователями\n",
    "users = pd.read_csv(\"users_articles.csv\")\n",
    "users.head(3)"
   ]
  },
  {
   "cell_type": "code",
   "execution_count": 32,
   "metadata": {
    "colab": {
     "base_uri": "https://localhost:8080/",
     "height": 1000
    },
    "id": "EbrSsxzeChqA",
    "outputId": "f20128c1-fcfe-471c-cc7f-87acb24eaad4"
   },
   "outputs": [],
   "source": [
    "#nltk.download('all')"
   ]
  },
  {
   "cell_type": "markdown",
   "metadata": {
    "id": "Sip9GShB7q49"
   },
   "source": [
    "стоп-слова"
   ]
  },
  {
   "cell_type": "code",
   "execution_count": 33,
   "metadata": {
    "id": "eXNDT7WX7tQ-"
   },
   "outputs": [],
   "source": [
    "stopword_ru = stopwords.words('russian')\n",
    "len(stopword_ru)\n",
    "\n",
    "morph = pymorphy2.MorphAnalyzer()"
   ]
  },
  {
   "cell_type": "code",
   "execution_count": 34,
   "metadata": {
    "colab": {
     "base_uri": "https://localhost:8080/",
     "height": 34
    },
    "id": "NF6hSHZV7vjW",
    "outputId": "3166ddb3-3d32-44a0-ed66-d69a48693cbc"
   },
   "outputs": [
    {
     "data": {
      "text/plain": [
       "776"
      ]
     },
     "execution_count": 34,
     "metadata": {},
     "output_type": "execute_result"
    }
   ],
   "source": [
    "with open('stopwords.txt', encoding='utf-8') as f:\n",
    "    additional_stopwords = [w.strip() for w in f.readlines() if w]\n",
    "stopword_ru += additional_stopwords\n",
    "len(stopword_ru)"
   ]
  },
  {
   "cell_type": "code",
   "execution_count": 35,
   "metadata": {
    "id": "ywoRZxz_7yet"
   },
   "outputs": [],
   "source": [
    "def clean_text(text):\n",
    "    '''\n",
    "    очистка текста\n",
    "    \n",
    "    на выходе очищеный текст\n",
    "    \n",
    "    '''\n",
    "    if not isinstance(text, str):\n",
    "        text = str(text)\n",
    "    \n",
    "    text = text.lower()\n",
    "    text = text.strip('\\n').strip('\\r').strip('\\t')\n",
    "    text = re.sub(\"-\\s\\r\\n\\|-\\s\\r\\n|\\r\\n\", '', str(text))\n",
    "\n",
    "    text = re.sub(\"[0-9]|[-—.,:;_%©«»?*!@#№$^•·&()]|[+=]|[[]|[]]|[/]|\", '', text)\n",
    "    text = re.sub(r\"\\r\\n\\t|\\n|\\\\s|\\r\\t|\\\\n\", ' ', text)\n",
    "    text = re.sub(r'[\\xad]|[\\s+]', ' ', text.strip())\n",
    "    \n",
    "    #tokens = list(tokenize(text))\n",
    "    #words = [_.text for _ in tokens]\n",
    "    #words = [w for w in words if w not in stopword_ru]\n",
    "    \n",
    "    #return \" \".join(words)\n",
    "    return text\n",
    "\n",
    "cache = {}\n",
    "\n",
    "def lemmatization(text):\n",
    "    '''\n",
    "    лемматизация\n",
    "        [0] если зашел тип не `str` делаем его `str`\n",
    "        [1] токенизация предложения через razdel\n",
    "        [2] проверка есть ли в начале слова '-'\n",
    "        [3] проверка токена с одного символа\n",
    "        [4] проверка есть ли данное слово в кэше\n",
    "        [5] лемматизация слова\n",
    "        [6] проверка на стоп-слова\n",
    "\n",
    "    на выходе лист отлемматизированых токенов\n",
    "    '''\n",
    "\n",
    "    # [0]\n",
    "    if not isinstance(text, str):\n",
    "        text = str(text)\n",
    "    \n",
    "    # [1]\n",
    "    tokens = list(tokenize(text))\n",
    "    words = [_.text for _ in tokens]\n",
    "\n",
    "    words_lem = []\n",
    "    for w in words:\n",
    "        if w[0] == '-': # [2]\n",
    "            w = w[1:]\n",
    "        if len(w)>1: # [3]\n",
    "            if w in cache: # [4]\n",
    "                words_lem.append(cache[w])\n",
    "            else: # [5]\n",
    "                temp_cach = cache[w] = morph.parse(w)[0].normal_form\n",
    "                words_lem.append(temp_cach)\n",
    "    \n",
    "    words_lem_without_stopwords=[i for i in words_lem if not i in stopword_ru] # [6]\n",
    "    \n",
    "    return words_lem_without_stopwords"
   ]
  },
  {
   "cell_type": "code",
   "execution_count": 36,
   "metadata": {
    "colab": {
     "base_uri": "https://localhost:8080/",
     "height": 51
    },
    "id": "z-QVmtDW72bv",
    "outputId": "fb172aa3-e308-4084-9cb1-a37f7d428f15"
   },
   "outputs": [
    {
     "name": "stdout",
     "output_type": "stream",
     "text": [
      "Wall time: 24.9 s\n"
     ]
    }
   ],
   "source": [
    "%%time\n",
    "#Запускаем очистку текста. Будет долго...\n",
    "news['title'] = news['title'].apply(lambda x: clean_text(x), 1)"
   ]
  },
  {
   "cell_type": "code",
   "execution_count": 37,
   "metadata": {
    "colab": {
     "base_uri": "https://localhost:8080/",
     "height": 51
    },
    "id": "fz-NhFSu76Ry",
    "outputId": "d0bf099b-0ea6-47a8-dde8-22122d8751e2"
   },
   "outputs": [
    {
     "name": "stdout",
     "output_type": "stream",
     "text": [
      "Wall time: 3min 26s\n"
     ]
    }
   ],
   "source": [
    "%%time\n",
    "#Запускаем лемматизацию текста. Будет очень долго...\n",
    "news['title'] = news['title'].apply(lambda x: lemmatization(x), 1)"
   ]
  },
  {
   "cell_type": "markdown",
   "metadata": {
    "id": "bxla76AE8Smv"
   },
   "source": [
    "### модель"
   ]
  },
  {
   "cell_type": "code",
   "execution_count": 38,
   "metadata": {
    "id": "595OfI7d8X-L"
   },
   "outputs": [],
   "source": [
    "#сформируем список наших текстов, разбив еще и на пробелы\n",
    "texts = [t for t in news['title'].values]\n",
    "\n",
    "# Create a corpus from a list of texts\n",
    "common_dictionary = Dictionary(texts)\n",
    "common_corpus = [common_dictionary.doc2bow(text) for text in texts]"
   ]
  },
  {
   "cell_type": "code",
   "execution_count": 39,
   "metadata": {
    "colab": {
     "base_uri": "https://localhost:8080/",
     "height": 35
    },
    "id": "WiWX3xD08u2p",
    "outputId": "ac6e188c-550b-48c1-cf17-39174152dbd6"
   },
   "outputs": [],
   "source": [
    "#common_dictionary[5]"
   ]
  },
  {
   "cell_type": "markdown",
   "metadata": {
    "id": "c8B5CZoy84-x"
   },
   "source": [
    "#### Обучение"
   ]
  },
  {
   "cell_type": "code",
   "execution_count": 40,
   "metadata": {
    "id": "AFb-Ndee87W8"
   },
   "outputs": [],
   "source": [
    "from gensim.models import LdaModel\n",
    "# Train the model on the corpus.\n",
    "lda = LdaModel(common_corpus, num_topics=25, id2word=common_dictionary)#, passes=10)"
   ]
  },
  {
   "cell_type": "code",
   "execution_count": 41,
   "metadata": {
    "colab": {
     "base_uri": "https://localhost:8080/",
     "height": 51
    },
    "id": "R3sJXsFx9BU0",
    "outputId": "ad9a54d7-1f65-486a-9b5c-9a9a23ae3b70"
   },
   "outputs": [],
   "source": [
    "from gensim.test.utils import datapath\n",
    "# Save model to disk.\n",
    "temp_file = datapath(\"model.lda\")\n",
    "lda.save(temp_file)\n",
    "\n",
    "# Load a potentially pretrained model from disk.\n",
    "lda = LdaModel.load(temp_file)"
   ]
  },
  {
   "cell_type": "code",
   "execution_count": 42,
   "metadata": {
    "colab": {
     "base_uri": "https://localhost:8080/",
     "height": 71
    },
    "id": "O2Md7QGh9EDc",
    "outputId": "1a45afbd-587b-44ce-8138-f02c858912ad"
   },
   "outputs": [
    {
     "name": "stdout",
     "output_type": "stream",
     "text": [
      "['форвард', 'авангард', 'томаш', 'заборский', 'прокомментировать', 'игра', 'команда', 'матч', 'чемпионат', 'кхл', 'против', 'атланта', 'nnnn', 'плохой', 'матч', 'нижний', 'новгород', 'против', 'торпедо', 'настраиваться', 'первый', 'минута', 'включиться', 'заборский', 'получиться', 'забросить', 'быстрый', 'гол', 'задать', 'хороший', 'темп', 'поединок', 'играть', 'хороший', 'сторона', 'пять', 'очко', 'выезд', 'девять', 'хороший']\n"
     ]
    },
    {
     "data": {
      "text/plain": [
       "[(4, 0.059382528),\n",
       " (5, 0.041980024),\n",
       " (11, 0.32218325),\n",
       " (12, 0.03287517),\n",
       " (13, 0.12974472),\n",
       " (16, 0.08578909),\n",
       " (17, 0.10587797),\n",
       " (21, 0.20417608)]"
      ]
     },
     "execution_count": 42,
     "metadata": {},
     "output_type": "execute_result"
    }
   ],
   "source": [
    "# Create a new corpus, made of previously unseen documents.\n",
    "other_texts = [t for t in news['title'].iloc[:3]]\n",
    "other_corpus = [common_dictionary.doc2bow(text) for text in other_texts]\n",
    "\n",
    "unseen_doc = other_corpus[2]\n",
    "print(other_texts[2])\n",
    "lda[unseen_doc]"
   ]
  },
  {
   "cell_type": "markdown",
   "metadata": {
    "id": "X995wV1a9J4Z"
   },
   "source": [
    "### Какие получились темы"
   ]
  },
  {
   "cell_type": "code",
   "execution_count": 43,
   "metadata": {
    "colab": {
     "base_uri": "https://localhost:8080/",
     "height": 442
    },
    "id": "LQ4F4e3E9O4r",
    "outputId": "edba82e2-87bf-48b5-ebfb-fba3aeacca7d"
   },
   "outputs": [
    {
     "name": "stdout",
     "output_type": "stream",
     "text": [
      "topic_0: военный операция мозг тело смерть кровь день\n",
      "topic_1: женщина погибнуть жизнь мужчина армия всё пострадать\n",
      "topic_2: медведев белоруссия россия законодательство следствие nn рубль\n",
      "topic_3: россия исследование nn данные сотрудник обнаружить российский\n",
      "topic_4: сша статья журнал американский рак долг ребёнок\n",
      "topic_5: исследование станция снижение аэропорт налог ниже зарплата\n",
      "topic_6: проект рубль правительство строительство министерство территория документ\n",
      "topic_7: рынок развитие наука риск рост уровень россия\n",
      "topic_8: фонд пациент пенсия препарат врач реформа остров\n",
      "topic_9: млн тыс стоимость составить сумма составлять сократиться\n",
      "topic_10: nn банк россия рубль цена решение писать\n",
      "topic_11: солнце мальчик выдать способность запустить игра вдвое\n",
      "topic_12: выяснить убийство иск взрыв следователь подозревать преступление\n",
      "topic_13: газ первый всё россия новый nn автор\n",
      "topic_14: ракета технология запуск земля китай японский программа\n",
      "topic_15: украина nn земля научный россия американский сша\n",
      "topic_16: девочка девушка зима знаменитый лестница праздничный автоматически\n",
      "topic_17: млрд рост население составить первый экипаж регион\n",
      "topic_18: квартира вицепремьер белый снять ст польша польский\n",
      "topic_19: поверхность египет дональд британский след nn великобритания\n",
      "topic_20: ребёнок гражданин конкурс форум фронт народный украинский\n",
      "topic_21: миссия испытание физика модель новый производить использоваться\n",
      "topic_22: путин экономика российский владимир россия экономический система\n",
      "topic_23: памятник захватить снижение железный открытие москва парк\n",
      "topic_24: космос выяснить климат кожа огонь гражданский объект\n"
     ]
    }
   ],
   "source": [
    "x=lda.show_topics(num_topics=25, num_words=7,formatted=False)\n",
    "topics_words = [(tp[0], [wd[0] for wd in tp[1]]) for tp in x]\n",
    "\n",
    "#Below Code Prints Only Words \n",
    "for topic,words in topics_words:\n",
    "    print(\"topic_{}: \".format(topic)+\" \".join(words))"
   ]
  },
  {
   "cell_type": "markdown",
   "metadata": {
    "id": "YsRlunQc9WC6"
   },
   "source": [
    "### функция, которая будет нам возвращать векторное представление новости"
   ]
  },
  {
   "cell_type": "code",
   "execution_count": 44,
   "metadata": {
    "id": "FpKjBe1u9TER"
   },
   "outputs": [],
   "source": [
    "def get_lda_vector(text):\n",
    "    unseen_doc = common_dictionary.doc2bow(text)\n",
    "    lda_tuple = lda[unseen_doc]\n",
    "    not_null_topics = dict(zip([i[0] for i in lda_tuple], [i[1] for i in lda_tuple]))\n",
    "\n",
    "    output_vector = []\n",
    "    for i in range(25):\n",
    "        if i not in not_null_topics:\n",
    "            output_vector.append(0)\n",
    "        else:\n",
    "            output_vector.append(not_null_topics[i])\n",
    "    return np.array(output_vector)"
   ]
  },
  {
   "cell_type": "code",
   "execution_count": 45,
   "metadata": {
    "colab": {
     "base_uri": "https://localhost:8080/",
     "height": 204
    },
    "id": "rA_O_Jpn9hBN",
    "outputId": "2c99016d-9129-4ab7-f9c1-b58b92dd7a1c"
   },
   "outputs": [
    {
     "data": {
      "text/html": [
       "<div>\n",
       "<style scoped>\n",
       "    .dataframe tbody tr th:only-of-type {\n",
       "        vertical-align: middle;\n",
       "    }\n",
       "\n",
       "    .dataframe tbody tr th {\n",
       "        vertical-align: top;\n",
       "    }\n",
       "\n",
       "    .dataframe thead th {\n",
       "        text-align: right;\n",
       "    }\n",
       "</style>\n",
       "<table border=\"1\" class=\"dataframe\">\n",
       "  <thead>\n",
       "    <tr style=\"text-align: right;\">\n",
       "      <th></th>\n",
       "      <th>doc_id</th>\n",
       "      <th>topic_0</th>\n",
       "      <th>topic_1</th>\n",
       "      <th>topic_2</th>\n",
       "      <th>topic_3</th>\n",
       "      <th>topic_4</th>\n",
       "      <th>topic_5</th>\n",
       "      <th>topic_6</th>\n",
       "      <th>topic_7</th>\n",
       "      <th>topic_8</th>\n",
       "      <th>...</th>\n",
       "      <th>topic_15</th>\n",
       "      <th>topic_16</th>\n",
       "      <th>topic_17</th>\n",
       "      <th>topic_18</th>\n",
       "      <th>topic_19</th>\n",
       "      <th>topic_20</th>\n",
       "      <th>topic_21</th>\n",
       "      <th>topic_22</th>\n",
       "      <th>topic_23</th>\n",
       "      <th>topic_24</th>\n",
       "    </tr>\n",
       "  </thead>\n",
       "  <tbody>\n",
       "    <tr>\n",
       "      <th>0</th>\n",
       "      <td>6</td>\n",
       "      <td>0.000000</td>\n",
       "      <td>0.0</td>\n",
       "      <td>0.0</td>\n",
       "      <td>0.879337</td>\n",
       "      <td>0.000000</td>\n",
       "      <td>0.000000</td>\n",
       "      <td>0.0</td>\n",
       "      <td>0.023625</td>\n",
       "      <td>0.023334</td>\n",
       "      <td>...</td>\n",
       "      <td>0.00000</td>\n",
       "      <td>0.065691</td>\n",
       "      <td>0.000000</td>\n",
       "      <td>0.0</td>\n",
       "      <td>0.0</td>\n",
       "      <td>0.0</td>\n",
       "      <td>0.000000</td>\n",
       "      <td>0.0</td>\n",
       "      <td>0.0</td>\n",
       "      <td>0.0</td>\n",
       "    </tr>\n",
       "    <tr>\n",
       "      <th>1</th>\n",
       "      <td>4896</td>\n",
       "      <td>0.000000</td>\n",
       "      <td>0.0</td>\n",
       "      <td>0.0</td>\n",
       "      <td>0.000000</td>\n",
       "      <td>0.000000</td>\n",
       "      <td>0.000000</td>\n",
       "      <td>0.0</td>\n",
       "      <td>0.000000</td>\n",
       "      <td>0.000000</td>\n",
       "      <td>...</td>\n",
       "      <td>0.70086</td>\n",
       "      <td>0.092082</td>\n",
       "      <td>0.000000</td>\n",
       "      <td>0.0</td>\n",
       "      <td>0.0</td>\n",
       "      <td>0.0</td>\n",
       "      <td>0.000000</td>\n",
       "      <td>0.0</td>\n",
       "      <td>0.0</td>\n",
       "      <td>0.0</td>\n",
       "    </tr>\n",
       "    <tr>\n",
       "      <th>2</th>\n",
       "      <td>4897</td>\n",
       "      <td>0.000000</td>\n",
       "      <td>0.0</td>\n",
       "      <td>0.0</td>\n",
       "      <td>0.000000</td>\n",
       "      <td>0.058926</td>\n",
       "      <td>0.042039</td>\n",
       "      <td>0.0</td>\n",
       "      <td>0.000000</td>\n",
       "      <td>0.000000</td>\n",
       "      <td>...</td>\n",
       "      <td>0.00000</td>\n",
       "      <td>0.085894</td>\n",
       "      <td>0.106001</td>\n",
       "      <td>0.0</td>\n",
       "      <td>0.0</td>\n",
       "      <td>0.0</td>\n",
       "      <td>0.203582</td>\n",
       "      <td>0.0</td>\n",
       "      <td>0.0</td>\n",
       "      <td>0.0</td>\n",
       "    </tr>\n",
       "    <tr>\n",
       "      <th>3</th>\n",
       "      <td>4898</td>\n",
       "      <td>0.046932</td>\n",
       "      <td>0.0</td>\n",
       "      <td>0.0</td>\n",
       "      <td>0.000000</td>\n",
       "      <td>0.000000</td>\n",
       "      <td>0.000000</td>\n",
       "      <td>0.0</td>\n",
       "      <td>0.000000</td>\n",
       "      <td>0.000000</td>\n",
       "      <td>...</td>\n",
       "      <td>0.00000</td>\n",
       "      <td>0.000000</td>\n",
       "      <td>0.000000</td>\n",
       "      <td>0.0</td>\n",
       "      <td>0.0</td>\n",
       "      <td>0.0</td>\n",
       "      <td>0.000000</td>\n",
       "      <td>0.0</td>\n",
       "      <td>0.0</td>\n",
       "      <td>0.0</td>\n",
       "    </tr>\n",
       "    <tr>\n",
       "      <th>4</th>\n",
       "      <td>4899</td>\n",
       "      <td>0.000000</td>\n",
       "      <td>0.0</td>\n",
       "      <td>0.0</td>\n",
       "      <td>0.903861</td>\n",
       "      <td>0.000000</td>\n",
       "      <td>0.000000</td>\n",
       "      <td>0.0</td>\n",
       "      <td>0.000000</td>\n",
       "      <td>0.000000</td>\n",
       "      <td>...</td>\n",
       "      <td>0.00000</td>\n",
       "      <td>0.000000</td>\n",
       "      <td>0.000000</td>\n",
       "      <td>0.0</td>\n",
       "      <td>0.0</td>\n",
       "      <td>0.0</td>\n",
       "      <td>0.000000</td>\n",
       "      <td>0.0</td>\n",
       "      <td>0.0</td>\n",
       "      <td>0.0</td>\n",
       "    </tr>\n",
       "  </tbody>\n",
       "</table>\n",
       "<p>5 rows × 26 columns</p>\n",
       "</div>"
      ],
      "text/plain": [
       "   doc_id   topic_0  topic_1  topic_2   topic_3   topic_4   topic_5  topic_6  \\\n",
       "0       6  0.000000      0.0      0.0  0.879337  0.000000  0.000000      0.0   \n",
       "1    4896  0.000000      0.0      0.0  0.000000  0.000000  0.000000      0.0   \n",
       "2    4897  0.000000      0.0      0.0  0.000000  0.058926  0.042039      0.0   \n",
       "3    4898  0.046932      0.0      0.0  0.000000  0.000000  0.000000      0.0   \n",
       "4    4899  0.000000      0.0      0.0  0.903861  0.000000  0.000000      0.0   \n",
       "\n",
       "    topic_7   topic_8  ...  topic_15  topic_16  topic_17  topic_18  topic_19  \\\n",
       "0  0.023625  0.023334  ...   0.00000  0.065691  0.000000       0.0       0.0   \n",
       "1  0.000000  0.000000  ...   0.70086  0.092082  0.000000       0.0       0.0   \n",
       "2  0.000000  0.000000  ...   0.00000  0.085894  0.106001       0.0       0.0   \n",
       "3  0.000000  0.000000  ...   0.00000  0.000000  0.000000       0.0       0.0   \n",
       "4  0.000000  0.000000  ...   0.00000  0.000000  0.000000       0.0       0.0   \n",
       "\n",
       "   topic_20  topic_21  topic_22  topic_23  topic_24  \n",
       "0       0.0  0.000000       0.0       0.0       0.0  \n",
       "1       0.0  0.000000       0.0       0.0       0.0  \n",
       "2       0.0  0.203582       0.0       0.0       0.0  \n",
       "3       0.0  0.000000       0.0       0.0       0.0  \n",
       "4       0.0  0.000000       0.0       0.0       0.0  \n",
       "\n",
       "[5 rows x 26 columns]"
      ]
     },
     "execution_count": 45,
     "metadata": {},
     "output_type": "execute_result"
    }
   ],
   "source": [
    "topic_matrix = pd.DataFrame([get_lda_vector(text) for text in news['title'].values])\n",
    "topic_matrix.columns = ['topic_{}'.format(i) for i in range(25)]\n",
    "topic_matrix['doc_id'] = news['doc_id'].values\n",
    "topic_matrix = topic_matrix[['doc_id']+['topic_{}'.format(i) for i in range(25)]]\n",
    "topic_matrix.head(5)"
   ]
  },
  {
   "cell_type": "markdown",
   "metadata": {
    "id": "bm9jlWH_9j-y"
   },
   "source": [
    "### Векторные представления пользователей"
   ]
  },
  {
   "cell_type": "code",
   "execution_count": 46,
   "metadata": {
    "colab": {
     "base_uri": "https://localhost:8080/",
     "height": 142
    },
    "id": "PVZCTm5s9min",
    "outputId": "a2611d89-e000-4295-b432-eb95225b32d8"
   },
   "outputs": [
    {
     "data": {
      "text/html": [
       "<div>\n",
       "<style scoped>\n",
       "    .dataframe tbody tr th:only-of-type {\n",
       "        vertical-align: middle;\n",
       "    }\n",
       "\n",
       "    .dataframe tbody tr th {\n",
       "        vertical-align: top;\n",
       "    }\n",
       "\n",
       "    .dataframe thead th {\n",
       "        text-align: right;\n",
       "    }\n",
       "</style>\n",
       "<table border=\"1\" class=\"dataframe\">\n",
       "  <thead>\n",
       "    <tr style=\"text-align: right;\">\n",
       "      <th></th>\n",
       "      <th>uid</th>\n",
       "      <th>articles</th>\n",
       "    </tr>\n",
       "  </thead>\n",
       "  <tbody>\n",
       "    <tr>\n",
       "      <th>0</th>\n",
       "      <td>u105138</td>\n",
       "      <td>[293672, 293328, 293001, 293622, 293126, 1852]</td>\n",
       "    </tr>\n",
       "    <tr>\n",
       "      <th>1</th>\n",
       "      <td>u108690</td>\n",
       "      <td>[3405, 1739, 2972, 1158, 1599, 322665]</td>\n",
       "    </tr>\n",
       "    <tr>\n",
       "      <th>2</th>\n",
       "      <td>u108339</td>\n",
       "      <td>[1845, 2009, 2356, 1424, 2939, 323389]</td>\n",
       "    </tr>\n",
       "  </tbody>\n",
       "</table>\n",
       "</div>"
      ],
      "text/plain": [
       "       uid                                        articles\n",
       "0  u105138  [293672, 293328, 293001, 293622, 293126, 1852]\n",
       "1  u108690          [3405, 1739, 2972, 1158, 1599, 322665]\n",
       "2  u108339          [1845, 2009, 2356, 1424, 2939, 323389]"
      ]
     },
     "execution_count": 46,
     "metadata": {},
     "output_type": "execute_result"
    }
   ],
   "source": [
    "users.head(3)"
   ]
  },
  {
   "cell_type": "code",
   "execution_count": 47,
   "metadata": {
    "id": "vCZaIGoD9rAd"
   },
   "outputs": [],
   "source": [
    "doc_dict = dict(zip(topic_matrix['doc_id'].values, topic_matrix[['topic_{}'.format(i) for i in range(25)]].values))"
   ]
  },
  {
   "cell_type": "code",
   "execution_count": 48,
   "metadata": {
    "colab": {
     "base_uri": "https://localhost:8080/",
     "height": 102
    },
    "id": "HDvF95br9tpJ",
    "outputId": "2bfd9390-e5bc-41e3-d656-758ef56537de"
   },
   "outputs": [
    {
     "data": {
      "text/plain": [
       "array([0.        , 0.        , 0.        , 0.20538941, 0.        ,\n",
       "       0.        , 0.09004008, 0.        , 0.        , 0.03908248,\n",
       "       0.44053075, 0.        , 0.18278784, 0.        , 0.        ,\n",
       "       0.        , 0.        , 0.        , 0.        , 0.        ,\n",
       "       0.        , 0.        , 0.        , 0.        , 0.        ])"
      ]
     },
     "execution_count": 48,
     "metadata": {},
     "output_type": "execute_result"
    }
   ],
   "source": [
    "doc_dict[293627]"
   ]
  },
  {
   "cell_type": "code",
   "execution_count": 49,
   "metadata": {
    "id": "DHSvSyHp9tDv"
   },
   "outputs": [],
   "source": [
    "user_articles_list = users['articles'].iloc[33]\n",
    "\n",
    "def get_user_embedding(user_articles_list):\n",
    "    user_articles_list = eval(user_articles_list)\n",
    "    user_vector = np.array([doc_dict[doc_id] for doc_id in user_articles_list])\n",
    "    user_vector = np.mean(user_vector, 0)\n",
    "    return user_vector"
   ]
  },
  {
   "cell_type": "code",
   "execution_count": 50,
   "metadata": {
    "colab": {
     "base_uri": "https://localhost:8080/",
     "height": 102
    },
    "id": "MUKPCi8l9vYy",
    "outputId": "7d679731-8be9-4d67-8414-799a6a3a3495"
   },
   "outputs": [
    {
     "data": {
      "text/plain": [
       "array([0.04367641, 0.03756844, 0.1226208 , 0.19522287, 0.05170626,\n",
       "       0.        , 0.10516961, 0.04721147, 0.00270228, 0.00411092,\n",
       "       0.02986555, 0.        , 0.04674727, 0.04721183, 0.01426288,\n",
       "       0.03860912, 0.01967658, 0.02398463, 0.        , 0.        ,\n",
       "       0.01415144, 0.02920119, 0.11142872, 0.        , 0.00247616])"
      ]
     },
     "execution_count": 50,
     "metadata": {},
     "output_type": "execute_result"
    }
   ],
   "source": [
    "get_user_embedding(user_articles_list)"
   ]
  },
  {
   "cell_type": "code",
   "execution_count": 51,
   "metadata": {
    "colab": {
     "base_uri": "https://localhost:8080/",
     "height": 35
    },
    "id": "wil9vvLq90zG",
    "outputId": "5c833e06-6ab7-4c60-c061-676a910a3ce1"
   },
   "outputs": [
    {
     "data": {
      "text/plain": [
       "'[323329, 321961, 324743, 323186, 324632, 474690]'"
      ]
     },
     "execution_count": 51,
     "metadata": {},
     "output_type": "execute_result"
    }
   ],
   "source": [
    "users['articles'].iloc[33]"
   ]
  },
  {
   "cell_type": "code",
   "execution_count": 52,
   "metadata": {
    "colab": {
     "base_uri": "https://localhost:8080/",
     "height": 86
    },
    "id": "pIxcMUQj9380",
    "outputId": "ab524c6b-006c-49a5-9f0c-c1081647e136"
   },
   "outputs": [
    {
     "data": {
      "text/plain": [
       "'владимир путин убрать всё препона мешать россиянин усыновлять сирота краткий срок риа новость nn правительство принять ряд решение отдельный острый проблема пока остаться неурегулированный нужно убрать всё препона мешать гражданин желать принять ребёнок семья путин заседание совет реализация приоритетный национальный проект демографический политика nn федеральный уровень отсутствовать примерный порядок срок подготовка гражданин приём ребёнок семья поручать правительство краткий срок урегулировать всё проблема подчеркнуть путин подписать указ увеличение социальный выплата безработный родитель воспитывать ребёнок подписать указ существенно повышать социальный выплата неработающий родитель воспитывать детейинвалид возраст инвалид детство независимо возраст путин объяснить размер выплата составить тысяча рубль рассчитываться поручить разработать предложение программа материнский капитал перестать действовать мера поддержка семья установленный срок реализация программа материнский капитал истекать всё семья появиться второй последующий ребёнок течение сегодняшний закон получать материнский капитал всё вместе подумать делать программа добавить путин'"
      ]
     },
     "execution_count": 52,
     "metadata": {},
     "output_type": "execute_result"
    }
   ],
   "source": [
    "\" \".join(news[news['doc_id']==323183]['title'].iloc[0])"
   ]
  },
  {
   "cell_type": "code",
   "execution_count": 53,
   "metadata": {
    "colab": {
     "base_uri": "https://localhost:8080/",
     "height": 142
    },
    "id": "GCqACCBy988G",
    "outputId": "378ab1e1-6436-459f-ec8d-7838de6e5fc2"
   },
   "outputs": [
    {
     "data": {
      "text/html": [
       "<div>\n",
       "<style scoped>\n",
       "    .dataframe tbody tr th:only-of-type {\n",
       "        vertical-align: middle;\n",
       "    }\n",
       "\n",
       "    .dataframe tbody tr th {\n",
       "        vertical-align: top;\n",
       "    }\n",
       "\n",
       "    .dataframe thead th {\n",
       "        text-align: right;\n",
       "    }\n",
       "</style>\n",
       "<table border=\"1\" class=\"dataframe\">\n",
       "  <thead>\n",
       "    <tr style=\"text-align: right;\">\n",
       "      <th></th>\n",
       "      <th>uid</th>\n",
       "      <th>topic_0</th>\n",
       "      <th>topic_1</th>\n",
       "      <th>topic_2</th>\n",
       "      <th>topic_3</th>\n",
       "      <th>topic_4</th>\n",
       "      <th>topic_5</th>\n",
       "      <th>topic_6</th>\n",
       "      <th>topic_7</th>\n",
       "      <th>topic_8</th>\n",
       "      <th>...</th>\n",
       "      <th>topic_15</th>\n",
       "      <th>topic_16</th>\n",
       "      <th>topic_17</th>\n",
       "      <th>topic_18</th>\n",
       "      <th>topic_19</th>\n",
       "      <th>topic_20</th>\n",
       "      <th>topic_21</th>\n",
       "      <th>topic_22</th>\n",
       "      <th>topic_23</th>\n",
       "      <th>topic_24</th>\n",
       "    </tr>\n",
       "  </thead>\n",
       "  <tbody>\n",
       "    <tr>\n",
       "      <th>0</th>\n",
       "      <td>u105138</td>\n",
       "      <td>0.046106</td>\n",
       "      <td>0.057783</td>\n",
       "      <td>0.023817</td>\n",
       "      <td>0.091109</td>\n",
       "      <td>0.074679</td>\n",
       "      <td>0.010547</td>\n",
       "      <td>0.026438</td>\n",
       "      <td>0.000000</td>\n",
       "      <td>0.006093</td>\n",
       "      <td>...</td>\n",
       "      <td>0.176957</td>\n",
       "      <td>0.000000</td>\n",
       "      <td>0.002795</td>\n",
       "      <td>0.005986</td>\n",
       "      <td>0.023707</td>\n",
       "      <td>0.076963</td>\n",
       "      <td>0.021943</td>\n",
       "      <td>0.025324</td>\n",
       "      <td>0.016092</td>\n",
       "      <td>0.012979</td>\n",
       "    </tr>\n",
       "    <tr>\n",
       "      <th>1</th>\n",
       "      <td>u108690</td>\n",
       "      <td>0.015923</td>\n",
       "      <td>0.030977</td>\n",
       "      <td>0.007612</td>\n",
       "      <td>0.175024</td>\n",
       "      <td>0.057650</td>\n",
       "      <td>0.019049</td>\n",
       "      <td>0.024132</td>\n",
       "      <td>0.031908</td>\n",
       "      <td>0.003785</td>\n",
       "      <td>...</td>\n",
       "      <td>0.237206</td>\n",
       "      <td>0.008878</td>\n",
       "      <td>0.024103</td>\n",
       "      <td>0.003843</td>\n",
       "      <td>0.012447</td>\n",
       "      <td>0.040600</td>\n",
       "      <td>0.012315</td>\n",
       "      <td>0.051549</td>\n",
       "      <td>0.005838</td>\n",
       "      <td>0.006890</td>\n",
       "    </tr>\n",
       "    <tr>\n",
       "      <th>2</th>\n",
       "      <td>u108339</td>\n",
       "      <td>0.044018</td>\n",
       "      <td>0.076009</td>\n",
       "      <td>0.008684</td>\n",
       "      <td>0.278648</td>\n",
       "      <td>0.055089</td>\n",
       "      <td>0.016765</td>\n",
       "      <td>0.045069</td>\n",
       "      <td>0.016764</td>\n",
       "      <td>0.015214</td>\n",
       "      <td>...</td>\n",
       "      <td>0.080811</td>\n",
       "      <td>0.003485</td>\n",
       "      <td>0.040420</td>\n",
       "      <td>0.008723</td>\n",
       "      <td>0.000000</td>\n",
       "      <td>0.025158</td>\n",
       "      <td>0.008923</td>\n",
       "      <td>0.000000</td>\n",
       "      <td>0.000000</td>\n",
       "      <td>0.013177</td>\n",
       "    </tr>\n",
       "  </tbody>\n",
       "</table>\n",
       "<p>3 rows × 26 columns</p>\n",
       "</div>"
      ],
      "text/plain": [
       "       uid   topic_0   topic_1   topic_2   topic_3   topic_4   topic_5  \\\n",
       "0  u105138  0.046106  0.057783  0.023817  0.091109  0.074679  0.010547   \n",
       "1  u108690  0.015923  0.030977  0.007612  0.175024  0.057650  0.019049   \n",
       "2  u108339  0.044018  0.076009  0.008684  0.278648  0.055089  0.016765   \n",
       "\n",
       "    topic_6   topic_7   topic_8  ...  topic_15  topic_16  topic_17  topic_18  \\\n",
       "0  0.026438  0.000000  0.006093  ...  0.176957  0.000000  0.002795  0.005986   \n",
       "1  0.024132  0.031908  0.003785  ...  0.237206  0.008878  0.024103  0.003843   \n",
       "2  0.045069  0.016764  0.015214  ...  0.080811  0.003485  0.040420  0.008723   \n",
       "\n",
       "   topic_19  topic_20  topic_21  topic_22  topic_23  topic_24  \n",
       "0  0.023707  0.076963  0.021943  0.025324  0.016092  0.012979  \n",
       "1  0.012447  0.040600  0.012315  0.051549  0.005838  0.006890  \n",
       "2  0.000000  0.025158  0.008923  0.000000  0.000000  0.013177  \n",
       "\n",
       "[3 rows x 26 columns]"
      ]
     },
     "execution_count": 53,
     "metadata": {},
     "output_type": "execute_result"
    }
   ],
   "source": [
    "user_embeddings = pd.DataFrame([i for i in users['articles'].apply(lambda x: get_user_embedding(x), 1)])\n",
    "user_embeddings.columns = ['topic_{}'.format(i) for i in range(25)]\n",
    "user_embeddings['uid'] = users['uid'].values\n",
    "user_embeddings = user_embeddings[['uid']+['topic_{}'.format(i) for i in range(25)]]\n",
    "user_embeddings.head(3)"
   ]
  },
  {
   "cell_type": "markdown",
   "metadata": {
    "id": "1iMrDUxx-BbO"
   },
   "source": [
    "### Разметка датасета"
   ]
  },
  {
   "cell_type": "code",
   "execution_count": 54,
   "metadata": {
    "colab": {
     "base_uri": "https://localhost:8080/",
     "height": 142
    },
    "id": "WPq6dWr9-HTG",
    "outputId": "accf4eb9-cbfd-4268-88e8-69de1d0b6207"
   },
   "outputs": [
    {
     "data": {
      "text/html": [
       "<div>\n",
       "<style scoped>\n",
       "    .dataframe tbody tr th:only-of-type {\n",
       "        vertical-align: middle;\n",
       "    }\n",
       "\n",
       "    .dataframe tbody tr th {\n",
       "        vertical-align: top;\n",
       "    }\n",
       "\n",
       "    .dataframe thead th {\n",
       "        text-align: right;\n",
       "    }\n",
       "</style>\n",
       "<table border=\"1\" class=\"dataframe\">\n",
       "  <thead>\n",
       "    <tr style=\"text-align: right;\">\n",
       "      <th></th>\n",
       "      <th>uid</th>\n",
       "      <th>churn</th>\n",
       "    </tr>\n",
       "  </thead>\n",
       "  <tbody>\n",
       "    <tr>\n",
       "      <th>0</th>\n",
       "      <td>u107120</td>\n",
       "      <td>0</td>\n",
       "    </tr>\n",
       "    <tr>\n",
       "      <th>1</th>\n",
       "      <td>u102277</td>\n",
       "      <td>0</td>\n",
       "    </tr>\n",
       "    <tr>\n",
       "      <th>2</th>\n",
       "      <td>u102444</td>\n",
       "      <td>0</td>\n",
       "    </tr>\n",
       "  </tbody>\n",
       "</table>\n",
       "</div>"
      ],
      "text/plain": [
       "       uid  churn\n",
       "0  u107120      0\n",
       "1  u102277      0\n",
       "2  u102444      0"
      ]
     },
     "execution_count": 54,
     "metadata": {},
     "output_type": "execute_result"
    }
   ],
   "source": [
    "target = pd.read_csv(\"users_churn.csv\")\n",
    "target.head(3)"
   ]
  },
  {
   "cell_type": "code",
   "execution_count": 55,
   "metadata": {
    "colab": {
     "base_uri": "https://localhost:8080/",
     "height": 142
    },
    "id": "eVfRgfSr-N9X",
    "outputId": "93172670-e1a0-452d-9fb8-be6fb43089e0"
   },
   "outputs": [
    {
     "data": {
      "text/html": [
       "<div>\n",
       "<style scoped>\n",
       "    .dataframe tbody tr th:only-of-type {\n",
       "        vertical-align: middle;\n",
       "    }\n",
       "\n",
       "    .dataframe tbody tr th {\n",
       "        vertical-align: top;\n",
       "    }\n",
       "\n",
       "    .dataframe thead th {\n",
       "        text-align: right;\n",
       "    }\n",
       "</style>\n",
       "<table border=\"1\" class=\"dataframe\">\n",
       "  <thead>\n",
       "    <tr style=\"text-align: right;\">\n",
       "      <th></th>\n",
       "      <th>uid</th>\n",
       "      <th>topic_0</th>\n",
       "      <th>topic_1</th>\n",
       "      <th>topic_2</th>\n",
       "      <th>topic_3</th>\n",
       "      <th>topic_4</th>\n",
       "      <th>topic_5</th>\n",
       "      <th>topic_6</th>\n",
       "      <th>topic_7</th>\n",
       "      <th>topic_8</th>\n",
       "      <th>...</th>\n",
       "      <th>topic_16</th>\n",
       "      <th>topic_17</th>\n",
       "      <th>topic_18</th>\n",
       "      <th>topic_19</th>\n",
       "      <th>topic_20</th>\n",
       "      <th>topic_21</th>\n",
       "      <th>topic_22</th>\n",
       "      <th>topic_23</th>\n",
       "      <th>topic_24</th>\n",
       "      <th>churn</th>\n",
       "    </tr>\n",
       "  </thead>\n",
       "  <tbody>\n",
       "    <tr>\n",
       "      <th>0</th>\n",
       "      <td>u105138</td>\n",
       "      <td>0.046106</td>\n",
       "      <td>0.057783</td>\n",
       "      <td>0.023817</td>\n",
       "      <td>0.091109</td>\n",
       "      <td>0.074679</td>\n",
       "      <td>0.010547</td>\n",
       "      <td>0.026438</td>\n",
       "      <td>0.000000</td>\n",
       "      <td>0.006093</td>\n",
       "      <td>...</td>\n",
       "      <td>0.000000</td>\n",
       "      <td>0.002795</td>\n",
       "      <td>0.005986</td>\n",
       "      <td>0.023707</td>\n",
       "      <td>0.076963</td>\n",
       "      <td>0.021943</td>\n",
       "      <td>0.025324</td>\n",
       "      <td>0.016092</td>\n",
       "      <td>0.012979</td>\n",
       "      <td>0</td>\n",
       "    </tr>\n",
       "    <tr>\n",
       "      <th>1</th>\n",
       "      <td>u108690</td>\n",
       "      <td>0.015923</td>\n",
       "      <td>0.030977</td>\n",
       "      <td>0.007612</td>\n",
       "      <td>0.175024</td>\n",
       "      <td>0.057650</td>\n",
       "      <td>0.019049</td>\n",
       "      <td>0.024132</td>\n",
       "      <td>0.031908</td>\n",
       "      <td>0.003785</td>\n",
       "      <td>...</td>\n",
       "      <td>0.008878</td>\n",
       "      <td>0.024103</td>\n",
       "      <td>0.003843</td>\n",
       "      <td>0.012447</td>\n",
       "      <td>0.040600</td>\n",
       "      <td>0.012315</td>\n",
       "      <td>0.051549</td>\n",
       "      <td>0.005838</td>\n",
       "      <td>0.006890</td>\n",
       "      <td>1</td>\n",
       "    </tr>\n",
       "    <tr>\n",
       "      <th>2</th>\n",
       "      <td>u108339</td>\n",
       "      <td>0.044018</td>\n",
       "      <td>0.076009</td>\n",
       "      <td>0.008684</td>\n",
       "      <td>0.278648</td>\n",
       "      <td>0.055089</td>\n",
       "      <td>0.016765</td>\n",
       "      <td>0.045069</td>\n",
       "      <td>0.016764</td>\n",
       "      <td>0.015214</td>\n",
       "      <td>...</td>\n",
       "      <td>0.003485</td>\n",
       "      <td>0.040420</td>\n",
       "      <td>0.008723</td>\n",
       "      <td>0.000000</td>\n",
       "      <td>0.025158</td>\n",
       "      <td>0.008923</td>\n",
       "      <td>0.000000</td>\n",
       "      <td>0.000000</td>\n",
       "      <td>0.013177</td>\n",
       "      <td>1</td>\n",
       "    </tr>\n",
       "  </tbody>\n",
       "</table>\n",
       "<p>3 rows × 27 columns</p>\n",
       "</div>"
      ],
      "text/plain": [
       "       uid   topic_0   topic_1   topic_2   topic_3   topic_4   topic_5  \\\n",
       "0  u105138  0.046106  0.057783  0.023817  0.091109  0.074679  0.010547   \n",
       "1  u108690  0.015923  0.030977  0.007612  0.175024  0.057650  0.019049   \n",
       "2  u108339  0.044018  0.076009  0.008684  0.278648  0.055089  0.016765   \n",
       "\n",
       "    topic_6   topic_7   topic_8  ...  topic_16  topic_17  topic_18  topic_19  \\\n",
       "0  0.026438  0.000000  0.006093  ...  0.000000  0.002795  0.005986  0.023707   \n",
       "1  0.024132  0.031908  0.003785  ...  0.008878  0.024103  0.003843  0.012447   \n",
       "2  0.045069  0.016764  0.015214  ...  0.003485  0.040420  0.008723  0.000000   \n",
       "\n",
       "   topic_20  topic_21  topic_22  topic_23  topic_24  churn  \n",
       "0  0.076963  0.021943  0.025324  0.016092  0.012979      0  \n",
       "1  0.040600  0.012315  0.051549  0.005838  0.006890      1  \n",
       "2  0.025158  0.008923  0.000000  0.000000  0.013177      1  \n",
       "\n",
       "[3 rows x 27 columns]"
      ]
     },
     "execution_count": 55,
     "metadata": {},
     "output_type": "execute_result"
    }
   ],
   "source": [
    "X = pd.merge(user_embeddings, target, 'left')\n",
    "X.head(3)"
   ]
  },
  {
   "cell_type": "markdown",
   "metadata": {
    "id": "KvBn_bso-WZ3"
   },
   "source": [
    "### Подготавливаем данные"
   ]
  },
  {
   "cell_type": "code",
   "execution_count": 56,
   "metadata": {
    "id": "jhYetRBJ-a4O"
   },
   "outputs": [],
   "source": [
    "X_train, X_test, y_train, y_test = train_test_split(X[['topic_{}'.format(i) for i in range(25)]], \n",
    "                                                    X['churn'], random_state=0)"
   ]
  },
  {
   "cell_type": "code",
   "execution_count": 57,
   "metadata": {
    "colab": {
     "base_uri": "https://localhost:8080/",
     "height": 419
    },
    "id": "fifahRfz-j24",
    "outputId": "f0a7050a-5555-46be-b9b0-3cd123714871"
   },
   "outputs": [
    {
     "data": {
      "text/html": [
       "<div>\n",
       "<style scoped>\n",
       "    .dataframe tbody tr th:only-of-type {\n",
       "        vertical-align: middle;\n",
       "    }\n",
       "\n",
       "    .dataframe tbody tr th {\n",
       "        vertical-align: top;\n",
       "    }\n",
       "\n",
       "    .dataframe thead th {\n",
       "        text-align: right;\n",
       "    }\n",
       "</style>\n",
       "<table border=\"1\" class=\"dataframe\">\n",
       "  <thead>\n",
       "    <tr style=\"text-align: right;\">\n",
       "      <th></th>\n",
       "      <th>topic_0</th>\n",
       "      <th>topic_1</th>\n",
       "      <th>topic_2</th>\n",
       "      <th>topic_3</th>\n",
       "      <th>topic_4</th>\n",
       "      <th>topic_5</th>\n",
       "      <th>topic_6</th>\n",
       "      <th>topic_7</th>\n",
       "      <th>topic_8</th>\n",
       "      <th>topic_9</th>\n",
       "      <th>...</th>\n",
       "      <th>topic_15</th>\n",
       "      <th>topic_16</th>\n",
       "      <th>topic_17</th>\n",
       "      <th>topic_18</th>\n",
       "      <th>topic_19</th>\n",
       "      <th>topic_20</th>\n",
       "      <th>topic_21</th>\n",
       "      <th>topic_22</th>\n",
       "      <th>topic_23</th>\n",
       "      <th>topic_24</th>\n",
       "    </tr>\n",
       "  </thead>\n",
       "  <tbody>\n",
       "    <tr>\n",
       "      <th>3069</th>\n",
       "      <td>0.032924</td>\n",
       "      <td>0.039025</td>\n",
       "      <td>0.063433</td>\n",
       "      <td>0.173556</td>\n",
       "      <td>0.069728</td>\n",
       "      <td>0.000000</td>\n",
       "      <td>0.045113</td>\n",
       "      <td>0.050433</td>\n",
       "      <td>0.007008</td>\n",
       "      <td>0.005075</td>\n",
       "      <td>...</td>\n",
       "      <td>0.045018</td>\n",
       "      <td>0.000000</td>\n",
       "      <td>0.036053</td>\n",
       "      <td>0.000000</td>\n",
       "      <td>0.020765</td>\n",
       "      <td>0.041050</td>\n",
       "      <td>0.003575</td>\n",
       "      <td>0.030890</td>\n",
       "      <td>0.009699</td>\n",
       "      <td>0.003588</td>\n",
       "    </tr>\n",
       "    <tr>\n",
       "      <th>1675</th>\n",
       "      <td>0.061914</td>\n",
       "      <td>0.072458</td>\n",
       "      <td>0.116851</td>\n",
       "      <td>0.047456</td>\n",
       "      <td>0.021037</td>\n",
       "      <td>0.017890</td>\n",
       "      <td>0.072818</td>\n",
       "      <td>0.021171</td>\n",
       "      <td>0.000000</td>\n",
       "      <td>0.065531</td>\n",
       "      <td>...</td>\n",
       "      <td>0.058890</td>\n",
       "      <td>0.006398</td>\n",
       "      <td>0.000000</td>\n",
       "      <td>0.000000</td>\n",
       "      <td>0.140771</td>\n",
       "      <td>0.009344</td>\n",
       "      <td>0.041456</td>\n",
       "      <td>0.007055</td>\n",
       "      <td>0.000000</td>\n",
       "      <td>0.013859</td>\n",
       "    </tr>\n",
       "    <tr>\n",
       "      <th>6385</th>\n",
       "      <td>0.034040</td>\n",
       "      <td>0.098344</td>\n",
       "      <td>0.020762</td>\n",
       "      <td>0.149800</td>\n",
       "      <td>0.021735</td>\n",
       "      <td>0.020029</td>\n",
       "      <td>0.025065</td>\n",
       "      <td>0.030164</td>\n",
       "      <td>0.018499</td>\n",
       "      <td>0.006827</td>\n",
       "      <td>...</td>\n",
       "      <td>0.125494</td>\n",
       "      <td>0.001744</td>\n",
       "      <td>0.013401</td>\n",
       "      <td>0.005869</td>\n",
       "      <td>0.005522</td>\n",
       "      <td>0.100605</td>\n",
       "      <td>0.005784</td>\n",
       "      <td>0.020512</td>\n",
       "      <td>0.006489</td>\n",
       "      <td>0.007106</td>\n",
       "    </tr>\n",
       "    <tr>\n",
       "      <th>543</th>\n",
       "      <td>0.003027</td>\n",
       "      <td>0.020727</td>\n",
       "      <td>0.022948</td>\n",
       "      <td>0.357157</td>\n",
       "      <td>0.028489</td>\n",
       "      <td>0.011724</td>\n",
       "      <td>0.040949</td>\n",
       "      <td>0.021272</td>\n",
       "      <td>0.002944</td>\n",
       "      <td>0.006101</td>\n",
       "      <td>...</td>\n",
       "      <td>0.095775</td>\n",
       "      <td>0.000000</td>\n",
       "      <td>0.003999</td>\n",
       "      <td>0.009942</td>\n",
       "      <td>0.000000</td>\n",
       "      <td>0.021267</td>\n",
       "      <td>0.010802</td>\n",
       "      <td>0.113202</td>\n",
       "      <td>0.015420</td>\n",
       "      <td>0.004157</td>\n",
       "    </tr>\n",
       "    <tr>\n",
       "      <th>3213</th>\n",
       "      <td>0.060451</td>\n",
       "      <td>0.024163</td>\n",
       "      <td>0.064747</td>\n",
       "      <td>0.293299</td>\n",
       "      <td>0.048964</td>\n",
       "      <td>0.040698</td>\n",
       "      <td>0.051361</td>\n",
       "      <td>0.000000</td>\n",
       "      <td>0.000000</td>\n",
       "      <td>0.000000</td>\n",
       "      <td>...</td>\n",
       "      <td>0.060927</td>\n",
       "      <td>0.000000</td>\n",
       "      <td>0.015743</td>\n",
       "      <td>0.000000</td>\n",
       "      <td>0.074708</td>\n",
       "      <td>0.014166</td>\n",
       "      <td>0.000000</td>\n",
       "      <td>0.021848</td>\n",
       "      <td>0.013908</td>\n",
       "      <td>0.000000</td>\n",
       "    </tr>\n",
       "    <tr>\n",
       "      <th>...</th>\n",
       "      <td>...</td>\n",
       "      <td>...</td>\n",
       "      <td>...</td>\n",
       "      <td>...</td>\n",
       "      <td>...</td>\n",
       "      <td>...</td>\n",
       "      <td>...</td>\n",
       "      <td>...</td>\n",
       "      <td>...</td>\n",
       "      <td>...</td>\n",
       "      <td>...</td>\n",
       "      <td>...</td>\n",
       "      <td>...</td>\n",
       "      <td>...</td>\n",
       "      <td>...</td>\n",
       "      <td>...</td>\n",
       "      <td>...</td>\n",
       "      <td>...</td>\n",
       "      <td>...</td>\n",
       "      <td>...</td>\n",
       "      <td>...</td>\n",
       "    </tr>\n",
       "    <tr>\n",
       "      <th>3482</th>\n",
       "      <td>0.005568</td>\n",
       "      <td>0.082399</td>\n",
       "      <td>0.047392</td>\n",
       "      <td>0.214215</td>\n",
       "      <td>0.041287</td>\n",
       "      <td>0.000000</td>\n",
       "      <td>0.066043</td>\n",
       "      <td>0.071898</td>\n",
       "      <td>0.026571</td>\n",
       "      <td>0.000000</td>\n",
       "      <td>...</td>\n",
       "      <td>0.137642</td>\n",
       "      <td>0.000000</td>\n",
       "      <td>0.013488</td>\n",
       "      <td>0.000000</td>\n",
       "      <td>0.005285</td>\n",
       "      <td>0.015117</td>\n",
       "      <td>0.000000</td>\n",
       "      <td>0.024235</td>\n",
       "      <td>0.000000</td>\n",
       "      <td>0.000000</td>\n",
       "    </tr>\n",
       "    <tr>\n",
       "      <th>2913</th>\n",
       "      <td>0.002321</td>\n",
       "      <td>0.048550</td>\n",
       "      <td>0.042147</td>\n",
       "      <td>0.078131</td>\n",
       "      <td>0.036808</td>\n",
       "      <td>0.000000</td>\n",
       "      <td>0.065808</td>\n",
       "      <td>0.041913</td>\n",
       "      <td>0.000000</td>\n",
       "      <td>0.000000</td>\n",
       "      <td>...</td>\n",
       "      <td>0.055847</td>\n",
       "      <td>0.013017</td>\n",
       "      <td>0.035663</td>\n",
       "      <td>0.000000</td>\n",
       "      <td>0.058266</td>\n",
       "      <td>0.137401</td>\n",
       "      <td>0.058684</td>\n",
       "      <td>0.019506</td>\n",
       "      <td>0.034105</td>\n",
       "      <td>0.011500</td>\n",
       "    </tr>\n",
       "    <tr>\n",
       "      <th>6150</th>\n",
       "      <td>0.002750</td>\n",
       "      <td>0.003686</td>\n",
       "      <td>0.065137</td>\n",
       "      <td>0.010153</td>\n",
       "      <td>0.013183</td>\n",
       "      <td>0.000000</td>\n",
       "      <td>0.012581</td>\n",
       "      <td>0.103234</td>\n",
       "      <td>0.005318</td>\n",
       "      <td>0.011061</td>\n",
       "      <td>...</td>\n",
       "      <td>0.020868</td>\n",
       "      <td>0.107946</td>\n",
       "      <td>0.000000</td>\n",
       "      <td>0.000000</td>\n",
       "      <td>0.205967</td>\n",
       "      <td>0.047042</td>\n",
       "      <td>0.000000</td>\n",
       "      <td>0.000000</td>\n",
       "      <td>0.000000</td>\n",
       "      <td>0.000000</td>\n",
       "    </tr>\n",
       "    <tr>\n",
       "      <th>7213</th>\n",
       "      <td>0.000000</td>\n",
       "      <td>0.019991</td>\n",
       "      <td>0.081839</td>\n",
       "      <td>0.168305</td>\n",
       "      <td>0.000000</td>\n",
       "      <td>0.000000</td>\n",
       "      <td>0.030162</td>\n",
       "      <td>0.027439</td>\n",
       "      <td>0.028430</td>\n",
       "      <td>0.000000</td>\n",
       "      <td>...</td>\n",
       "      <td>0.069604</td>\n",
       "      <td>0.041253</td>\n",
       "      <td>0.000000</td>\n",
       "      <td>0.026202</td>\n",
       "      <td>0.055567</td>\n",
       "      <td>0.120326</td>\n",
       "      <td>0.004901</td>\n",
       "      <td>0.044074</td>\n",
       "      <td>0.008467</td>\n",
       "      <td>0.009738</td>\n",
       "    </tr>\n",
       "    <tr>\n",
       "      <th>3262</th>\n",
       "      <td>0.024287</td>\n",
       "      <td>0.008256</td>\n",
       "      <td>0.015923</td>\n",
       "      <td>0.010729</td>\n",
       "      <td>0.009808</td>\n",
       "      <td>0.011513</td>\n",
       "      <td>0.117572</td>\n",
       "      <td>0.029153</td>\n",
       "      <td>0.000000</td>\n",
       "      <td>0.000000</td>\n",
       "      <td>...</td>\n",
       "      <td>0.059388</td>\n",
       "      <td>0.194275</td>\n",
       "      <td>0.002228</td>\n",
       "      <td>0.021343</td>\n",
       "      <td>0.074844</td>\n",
       "      <td>0.168706</td>\n",
       "      <td>0.008996</td>\n",
       "      <td>0.006107</td>\n",
       "      <td>0.000000</td>\n",
       "      <td>0.000000</td>\n",
       "    </tr>\n",
       "  </tbody>\n",
       "</table>\n",
       "<p>2000 rows × 25 columns</p>\n",
       "</div>"
      ],
      "text/plain": [
       "       topic_0   topic_1   topic_2   topic_3   topic_4   topic_5   topic_6  \\\n",
       "3069  0.032924  0.039025  0.063433  0.173556  0.069728  0.000000  0.045113   \n",
       "1675  0.061914  0.072458  0.116851  0.047456  0.021037  0.017890  0.072818   \n",
       "6385  0.034040  0.098344  0.020762  0.149800  0.021735  0.020029  0.025065   \n",
       "543   0.003027  0.020727  0.022948  0.357157  0.028489  0.011724  0.040949   \n",
       "3213  0.060451  0.024163  0.064747  0.293299  0.048964  0.040698  0.051361   \n",
       "...        ...       ...       ...       ...       ...       ...       ...   \n",
       "3482  0.005568  0.082399  0.047392  0.214215  0.041287  0.000000  0.066043   \n",
       "2913  0.002321  0.048550  0.042147  0.078131  0.036808  0.000000  0.065808   \n",
       "6150  0.002750  0.003686  0.065137  0.010153  0.013183  0.000000  0.012581   \n",
       "7213  0.000000  0.019991  0.081839  0.168305  0.000000  0.000000  0.030162   \n",
       "3262  0.024287  0.008256  0.015923  0.010729  0.009808  0.011513  0.117572   \n",
       "\n",
       "       topic_7   topic_8   topic_9  ...  topic_15  topic_16  topic_17  \\\n",
       "3069  0.050433  0.007008  0.005075  ...  0.045018  0.000000  0.036053   \n",
       "1675  0.021171  0.000000  0.065531  ...  0.058890  0.006398  0.000000   \n",
       "6385  0.030164  0.018499  0.006827  ...  0.125494  0.001744  0.013401   \n",
       "543   0.021272  0.002944  0.006101  ...  0.095775  0.000000  0.003999   \n",
       "3213  0.000000  0.000000  0.000000  ...  0.060927  0.000000  0.015743   \n",
       "...        ...       ...       ...  ...       ...       ...       ...   \n",
       "3482  0.071898  0.026571  0.000000  ...  0.137642  0.000000  0.013488   \n",
       "2913  0.041913  0.000000  0.000000  ...  0.055847  0.013017  0.035663   \n",
       "6150  0.103234  0.005318  0.011061  ...  0.020868  0.107946  0.000000   \n",
       "7213  0.027439  0.028430  0.000000  ...  0.069604  0.041253  0.000000   \n",
       "3262  0.029153  0.000000  0.000000  ...  0.059388  0.194275  0.002228   \n",
       "\n",
       "      topic_18  topic_19  topic_20  topic_21  topic_22  topic_23  topic_24  \n",
       "3069  0.000000  0.020765  0.041050  0.003575  0.030890  0.009699  0.003588  \n",
       "1675  0.000000  0.140771  0.009344  0.041456  0.007055  0.000000  0.013859  \n",
       "6385  0.005869  0.005522  0.100605  0.005784  0.020512  0.006489  0.007106  \n",
       "543   0.009942  0.000000  0.021267  0.010802  0.113202  0.015420  0.004157  \n",
       "3213  0.000000  0.074708  0.014166  0.000000  0.021848  0.013908  0.000000  \n",
       "...        ...       ...       ...       ...       ...       ...       ...  \n",
       "3482  0.000000  0.005285  0.015117  0.000000  0.024235  0.000000  0.000000  \n",
       "2913  0.000000  0.058266  0.137401  0.058684  0.019506  0.034105  0.011500  \n",
       "6150  0.000000  0.205967  0.047042  0.000000  0.000000  0.000000  0.000000  \n",
       "7213  0.026202  0.055567  0.120326  0.004901  0.044074  0.008467  0.009738  \n",
       "3262  0.021343  0.074844  0.168706  0.008996  0.006107  0.000000  0.000000  \n",
       "\n",
       "[2000 rows x 25 columns]"
      ]
     },
     "execution_count": 57,
     "metadata": {},
     "output_type": "execute_result"
    }
   ],
   "source": [
    "X_test"
   ]
  },
  {
   "cell_type": "code",
   "execution_count": 58,
   "metadata": {
    "colab": {
     "base_uri": "https://localhost:8080/",
     "height": 419
    },
    "id": "V2gkHHs7-ayj",
    "outputId": "26293faf-eefb-47b3-a9b8-240cf9bdcba1"
   },
   "outputs": [
    {
     "data": {
      "text/html": [
       "<div>\n",
       "<style scoped>\n",
       "    .dataframe tbody tr th:only-of-type {\n",
       "        vertical-align: middle;\n",
       "    }\n",
       "\n",
       "    .dataframe tbody tr th {\n",
       "        vertical-align: top;\n",
       "    }\n",
       "\n",
       "    .dataframe thead th {\n",
       "        text-align: right;\n",
       "    }\n",
       "</style>\n",
       "<table border=\"1\" class=\"dataframe\">\n",
       "  <thead>\n",
       "    <tr style=\"text-align: right;\">\n",
       "      <th></th>\n",
       "      <th>topic_0</th>\n",
       "      <th>topic_1</th>\n",
       "      <th>topic_2</th>\n",
       "      <th>topic_3</th>\n",
       "      <th>topic_4</th>\n",
       "      <th>topic_5</th>\n",
       "      <th>topic_6</th>\n",
       "      <th>topic_7</th>\n",
       "      <th>topic_8</th>\n",
       "      <th>topic_9</th>\n",
       "      <th>...</th>\n",
       "      <th>topic_15</th>\n",
       "      <th>topic_16</th>\n",
       "      <th>topic_17</th>\n",
       "      <th>topic_18</th>\n",
       "      <th>topic_19</th>\n",
       "      <th>topic_20</th>\n",
       "      <th>topic_21</th>\n",
       "      <th>topic_22</th>\n",
       "      <th>topic_23</th>\n",
       "      <th>topic_24</th>\n",
       "    </tr>\n",
       "  </thead>\n",
       "  <tbody>\n",
       "    <tr>\n",
       "      <th>286</th>\n",
       "      <td>0.010511</td>\n",
       "      <td>0.072414</td>\n",
       "      <td>0.072596</td>\n",
       "      <td>0.083534</td>\n",
       "      <td>0.007226</td>\n",
       "      <td>0.000000</td>\n",
       "      <td>0.010019</td>\n",
       "      <td>0.023241</td>\n",
       "      <td>0.000000</td>\n",
       "      <td>0.001815</td>\n",
       "      <td>...</td>\n",
       "      <td>0.105938</td>\n",
       "      <td>0.063703</td>\n",
       "      <td>0.000000</td>\n",
       "      <td>0.005897</td>\n",
       "      <td>0.151891</td>\n",
       "      <td>0.066781</td>\n",
       "      <td>0.009523</td>\n",
       "      <td>0.000000</td>\n",
       "      <td>0.023573</td>\n",
       "      <td>0.000000</td>\n",
       "    </tr>\n",
       "    <tr>\n",
       "      <th>6696</th>\n",
       "      <td>0.000000</td>\n",
       "      <td>0.015821</td>\n",
       "      <td>0.000000</td>\n",
       "      <td>0.092556</td>\n",
       "      <td>0.053237</td>\n",
       "      <td>0.000000</td>\n",
       "      <td>0.000000</td>\n",
       "      <td>0.071684</td>\n",
       "      <td>0.000000</td>\n",
       "      <td>0.000000</td>\n",
       "      <td>...</td>\n",
       "      <td>0.016140</td>\n",
       "      <td>0.013504</td>\n",
       "      <td>0.010874</td>\n",
       "      <td>0.000000</td>\n",
       "      <td>0.128327</td>\n",
       "      <td>0.056468</td>\n",
       "      <td>0.041550</td>\n",
       "      <td>0.040797</td>\n",
       "      <td>0.020737</td>\n",
       "      <td>0.016415</td>\n",
       "    </tr>\n",
       "    <tr>\n",
       "      <th>6486</th>\n",
       "      <td>0.039717</td>\n",
       "      <td>0.014978</td>\n",
       "      <td>0.002683</td>\n",
       "      <td>0.022830</td>\n",
       "      <td>0.011804</td>\n",
       "      <td>0.000000</td>\n",
       "      <td>0.000000</td>\n",
       "      <td>0.106020</td>\n",
       "      <td>0.007799</td>\n",
       "      <td>0.000000</td>\n",
       "      <td>...</td>\n",
       "      <td>0.075884</td>\n",
       "      <td>0.028129</td>\n",
       "      <td>0.008362</td>\n",
       "      <td>0.000000</td>\n",
       "      <td>0.074694</td>\n",
       "      <td>0.081486</td>\n",
       "      <td>0.000000</td>\n",
       "      <td>0.013480</td>\n",
       "      <td>0.000000</td>\n",
       "      <td>0.012433</td>\n",
       "    </tr>\n",
       "    <tr>\n",
       "      <th>1145</th>\n",
       "      <td>0.002129</td>\n",
       "      <td>0.004023</td>\n",
       "      <td>0.004171</td>\n",
       "      <td>0.031285</td>\n",
       "      <td>0.009807</td>\n",
       "      <td>0.025164</td>\n",
       "      <td>0.000000</td>\n",
       "      <td>0.078685</td>\n",
       "      <td>0.006710</td>\n",
       "      <td>0.061033</td>\n",
       "      <td>...</td>\n",
       "      <td>0.033862</td>\n",
       "      <td>0.050218</td>\n",
       "      <td>0.045186</td>\n",
       "      <td>0.009916</td>\n",
       "      <td>0.220394</td>\n",
       "      <td>0.040466</td>\n",
       "      <td>0.015805</td>\n",
       "      <td>0.005030</td>\n",
       "      <td>0.000000</td>\n",
       "      <td>0.009728</td>\n",
       "    </tr>\n",
       "    <tr>\n",
       "      <th>6346</th>\n",
       "      <td>0.021032</td>\n",
       "      <td>0.033588</td>\n",
       "      <td>0.012165</td>\n",
       "      <td>0.004382</td>\n",
       "      <td>0.014891</td>\n",
       "      <td>0.002222</td>\n",
       "      <td>0.000000</td>\n",
       "      <td>0.113117</td>\n",
       "      <td>0.000000</td>\n",
       "      <td>0.051927</td>\n",
       "      <td>...</td>\n",
       "      <td>0.066033</td>\n",
       "      <td>0.114818</td>\n",
       "      <td>0.000000</td>\n",
       "      <td>0.009984</td>\n",
       "      <td>0.145514</td>\n",
       "      <td>0.063711</td>\n",
       "      <td>0.061180</td>\n",
       "      <td>0.000000</td>\n",
       "      <td>0.000000</td>\n",
       "      <td>0.004270</td>\n",
       "    </tr>\n",
       "    <tr>\n",
       "      <th>...</th>\n",
       "      <td>...</td>\n",
       "      <td>...</td>\n",
       "      <td>...</td>\n",
       "      <td>...</td>\n",
       "      <td>...</td>\n",
       "      <td>...</td>\n",
       "      <td>...</td>\n",
       "      <td>...</td>\n",
       "      <td>...</td>\n",
       "      <td>...</td>\n",
       "      <td>...</td>\n",
       "      <td>...</td>\n",
       "      <td>...</td>\n",
       "      <td>...</td>\n",
       "      <td>...</td>\n",
       "      <td>...</td>\n",
       "      <td>...</td>\n",
       "      <td>...</td>\n",
       "      <td>...</td>\n",
       "      <td>...</td>\n",
       "      <td>...</td>\n",
       "    </tr>\n",
       "    <tr>\n",
       "      <th>4931</th>\n",
       "      <td>0.045754</td>\n",
       "      <td>0.019539</td>\n",
       "      <td>0.014551</td>\n",
       "      <td>0.168303</td>\n",
       "      <td>0.027239</td>\n",
       "      <td>0.008348</td>\n",
       "      <td>0.034751</td>\n",
       "      <td>0.004998</td>\n",
       "      <td>0.002992</td>\n",
       "      <td>0.000000</td>\n",
       "      <td>...</td>\n",
       "      <td>0.114232</td>\n",
       "      <td>0.004699</td>\n",
       "      <td>0.002970</td>\n",
       "      <td>0.000000</td>\n",
       "      <td>0.053709</td>\n",
       "      <td>0.101486</td>\n",
       "      <td>0.051077</td>\n",
       "      <td>0.020525</td>\n",
       "      <td>0.011399</td>\n",
       "      <td>0.022732</td>\n",
       "    </tr>\n",
       "    <tr>\n",
       "      <th>3264</th>\n",
       "      <td>0.103970</td>\n",
       "      <td>0.014361</td>\n",
       "      <td>0.019564</td>\n",
       "      <td>0.035280</td>\n",
       "      <td>0.013419</td>\n",
       "      <td>0.018537</td>\n",
       "      <td>0.000000</td>\n",
       "      <td>0.081006</td>\n",
       "      <td>0.000000</td>\n",
       "      <td>0.000000</td>\n",
       "      <td>...</td>\n",
       "      <td>0.149484</td>\n",
       "      <td>0.077427</td>\n",
       "      <td>0.039368</td>\n",
       "      <td>0.000000</td>\n",
       "      <td>0.007513</td>\n",
       "      <td>0.025964</td>\n",
       "      <td>0.005350</td>\n",
       "      <td>0.004322</td>\n",
       "      <td>0.000000</td>\n",
       "      <td>0.000000</td>\n",
       "    </tr>\n",
       "    <tr>\n",
       "      <th>1653</th>\n",
       "      <td>0.018338</td>\n",
       "      <td>0.039341</td>\n",
       "      <td>0.029676</td>\n",
       "      <td>0.239364</td>\n",
       "      <td>0.017562</td>\n",
       "      <td>0.031532</td>\n",
       "      <td>0.058717</td>\n",
       "      <td>0.032984</td>\n",
       "      <td>0.023051</td>\n",
       "      <td>0.021680</td>\n",
       "      <td>...</td>\n",
       "      <td>0.007591</td>\n",
       "      <td>0.000000</td>\n",
       "      <td>0.028506</td>\n",
       "      <td>0.000000</td>\n",
       "      <td>0.005523</td>\n",
       "      <td>0.157222</td>\n",
       "      <td>0.000000</td>\n",
       "      <td>0.021562</td>\n",
       "      <td>0.007493</td>\n",
       "      <td>0.006078</td>\n",
       "    </tr>\n",
       "    <tr>\n",
       "      <th>2607</th>\n",
       "      <td>0.099284</td>\n",
       "      <td>0.030024</td>\n",
       "      <td>0.014937</td>\n",
       "      <td>0.003601</td>\n",
       "      <td>0.039738</td>\n",
       "      <td>0.019871</td>\n",
       "      <td>0.000000</td>\n",
       "      <td>0.062706</td>\n",
       "      <td>0.014086</td>\n",
       "      <td>0.020531</td>\n",
       "      <td>...</td>\n",
       "      <td>0.034149</td>\n",
       "      <td>0.009860</td>\n",
       "      <td>0.005611</td>\n",
       "      <td>0.000000</td>\n",
       "      <td>0.032140</td>\n",
       "      <td>0.058355</td>\n",
       "      <td>0.017718</td>\n",
       "      <td>0.005326</td>\n",
       "      <td>0.000000</td>\n",
       "      <td>0.000000</td>\n",
       "    </tr>\n",
       "    <tr>\n",
       "      <th>2732</th>\n",
       "      <td>0.000000</td>\n",
       "      <td>0.014891</td>\n",
       "      <td>0.065895</td>\n",
       "      <td>0.020613</td>\n",
       "      <td>0.014309</td>\n",
       "      <td>0.003236</td>\n",
       "      <td>0.000000</td>\n",
       "      <td>0.034398</td>\n",
       "      <td>0.043843</td>\n",
       "      <td>0.000000</td>\n",
       "      <td>...</td>\n",
       "      <td>0.027082</td>\n",
       "      <td>0.159469</td>\n",
       "      <td>0.007339</td>\n",
       "      <td>0.058930</td>\n",
       "      <td>0.169463</td>\n",
       "      <td>0.000000</td>\n",
       "      <td>0.008302</td>\n",
       "      <td>0.006050</td>\n",
       "      <td>0.000000</td>\n",
       "      <td>0.004444</td>\n",
       "    </tr>\n",
       "  </tbody>\n",
       "</table>\n",
       "<p>6000 rows × 25 columns</p>\n",
       "</div>"
      ],
      "text/plain": [
       "       topic_0   topic_1   topic_2   topic_3   topic_4   topic_5   topic_6  \\\n",
       "286   0.010511  0.072414  0.072596  0.083534  0.007226  0.000000  0.010019   \n",
       "6696  0.000000  0.015821  0.000000  0.092556  0.053237  0.000000  0.000000   \n",
       "6486  0.039717  0.014978  0.002683  0.022830  0.011804  0.000000  0.000000   \n",
       "1145  0.002129  0.004023  0.004171  0.031285  0.009807  0.025164  0.000000   \n",
       "6346  0.021032  0.033588  0.012165  0.004382  0.014891  0.002222  0.000000   \n",
       "...        ...       ...       ...       ...       ...       ...       ...   \n",
       "4931  0.045754  0.019539  0.014551  0.168303  0.027239  0.008348  0.034751   \n",
       "3264  0.103970  0.014361  0.019564  0.035280  0.013419  0.018537  0.000000   \n",
       "1653  0.018338  0.039341  0.029676  0.239364  0.017562  0.031532  0.058717   \n",
       "2607  0.099284  0.030024  0.014937  0.003601  0.039738  0.019871  0.000000   \n",
       "2732  0.000000  0.014891  0.065895  0.020613  0.014309  0.003236  0.000000   \n",
       "\n",
       "       topic_7   topic_8   topic_9  ...  topic_15  topic_16  topic_17  \\\n",
       "286   0.023241  0.000000  0.001815  ...  0.105938  0.063703  0.000000   \n",
       "6696  0.071684  0.000000  0.000000  ...  0.016140  0.013504  0.010874   \n",
       "6486  0.106020  0.007799  0.000000  ...  0.075884  0.028129  0.008362   \n",
       "1145  0.078685  0.006710  0.061033  ...  0.033862  0.050218  0.045186   \n",
       "6346  0.113117  0.000000  0.051927  ...  0.066033  0.114818  0.000000   \n",
       "...        ...       ...       ...  ...       ...       ...       ...   \n",
       "4931  0.004998  0.002992  0.000000  ...  0.114232  0.004699  0.002970   \n",
       "3264  0.081006  0.000000  0.000000  ...  0.149484  0.077427  0.039368   \n",
       "1653  0.032984  0.023051  0.021680  ...  0.007591  0.000000  0.028506   \n",
       "2607  0.062706  0.014086  0.020531  ...  0.034149  0.009860  0.005611   \n",
       "2732  0.034398  0.043843  0.000000  ...  0.027082  0.159469  0.007339   \n",
       "\n",
       "      topic_18  topic_19  topic_20  topic_21  topic_22  topic_23  topic_24  \n",
       "286   0.005897  0.151891  0.066781  0.009523  0.000000  0.023573  0.000000  \n",
       "6696  0.000000  0.128327  0.056468  0.041550  0.040797  0.020737  0.016415  \n",
       "6486  0.000000  0.074694  0.081486  0.000000  0.013480  0.000000  0.012433  \n",
       "1145  0.009916  0.220394  0.040466  0.015805  0.005030  0.000000  0.009728  \n",
       "6346  0.009984  0.145514  0.063711  0.061180  0.000000  0.000000  0.004270  \n",
       "...        ...       ...       ...       ...       ...       ...       ...  \n",
       "4931  0.000000  0.053709  0.101486  0.051077  0.020525  0.011399  0.022732  \n",
       "3264  0.000000  0.007513  0.025964  0.005350  0.004322  0.000000  0.000000  \n",
       "1653  0.000000  0.005523  0.157222  0.000000  0.021562  0.007493  0.006078  \n",
       "2607  0.000000  0.032140  0.058355  0.017718  0.005326  0.000000  0.000000  \n",
       "2732  0.058930  0.169463  0.000000  0.008302  0.006050  0.000000  0.004444  \n",
       "\n",
       "[6000 rows x 25 columns]"
      ]
     },
     "execution_count": 58,
     "metadata": {},
     "output_type": "execute_result"
    }
   ],
   "source": [
    "X_train"
   ]
  },
  {
   "cell_type": "code",
   "execution_count": 59,
   "metadata": {
    "colab": {
     "base_uri": "https://localhost:8080/",
     "height": 221
    },
    "id": "VGU4XoeO-ma8",
    "outputId": "7016b8e8-f9d7-418f-8ea3-71ade961b2c1"
   },
   "outputs": [
    {
     "data": {
      "text/plain": [
       "3069    0\n",
       "1675    0\n",
       "6385    1\n",
       "543     0\n",
       "3213    0\n",
       "       ..\n",
       "3482    0\n",
       "2913    0\n",
       "6150    0\n",
       "7213    0\n",
       "3262    0\n",
       "Name: churn, Length: 2000, dtype: int64"
      ]
     },
     "execution_count": 59,
     "metadata": {},
     "output_type": "execute_result"
    }
   ],
   "source": [
    "y_test"
   ]
  },
  {
   "cell_type": "code",
   "execution_count": 60,
   "metadata": {
    "colab": {
     "base_uri": "https://localhost:8080/",
     "height": 221
    },
    "id": "PlT2htjI-lpW",
    "outputId": "2ee487d7-ba97-4f5c-af5e-950feaf7c2b8"
   },
   "outputs": [
    {
     "data": {
      "text/plain": [
       "286     0\n",
       "6696    0\n",
       "6486    0\n",
       "1145    0\n",
       "6346    0\n",
       "       ..\n",
       "4931    0\n",
       "3264    0\n",
       "1653    0\n",
       "2607    0\n",
       "2732    0\n",
       "Name: churn, Length: 6000, dtype: int64"
      ]
     },
     "execution_count": 60,
     "metadata": {},
     "output_type": "execute_result"
    }
   ],
   "source": [
    "y_train"
   ]
  },
  {
   "cell_type": "code",
   "execution_count": 61,
   "metadata": {
    "colab": {
     "base_uri": "https://localhost:8080/",
     "height": 102
    },
    "id": "TttrCZGM-Z7n",
    "outputId": "321c3fab-5c02-4bdf-cd18-e71ea3f22e0c"
   },
   "outputs": [
    {
     "data": {
      "text/plain": [
       "LogisticRegression()"
      ]
     },
     "execution_count": 61,
     "metadata": {},
     "output_type": "execute_result"
    }
   ],
   "source": [
    "logreg = LogisticRegression()\n",
    "#обучим наш пайплайн\n",
    "logreg.fit(X_train, y_train)"
   ]
  },
  {
   "cell_type": "code",
   "execution_count": 62,
   "metadata": {
    "colab": {
     "base_uri": "https://localhost:8080/",
     "height": 51
    },
    "id": "MSRNeTR2-tLb",
    "outputId": "c6d68ef8-9691-4e30-994a-0769ff4f829c"
   },
   "outputs": [
    {
     "data": {
      "text/plain": [
       "array([0.06907595, 0.02728378, 0.39880502, 0.25505474, 0.07516167,\n",
       "       0.22261755, 0.1909914 , 0.1460056 , 0.08767046, 0.09052208])"
      ]
     },
     "execution_count": 62,
     "metadata": {},
     "output_type": "execute_result"
    }
   ],
   "source": [
    "#наши прогнозы для тестовой выборки\n",
    "preds = logreg.predict_proba(X_test)[:, 1]\n",
    "preds[:10]"
   ]
  },
  {
   "cell_type": "markdown",
   "metadata": {
    "id": "HmpH5Jlw5Sx4"
   },
   "source": [
    "### Рассчитаем Precision, Recall, F_score"
   ]
  },
  {
   "cell_type": "code",
   "execution_count": 63,
   "metadata": {
    "colab": {
     "base_uri": "https://localhost:8080/",
     "height": 34
    },
    "id": "oot7BEhe5Sx4",
    "outputId": "cfaaab10-1b50-4a93-8627-015f9314a0e3"
   },
   "outputs": [
    {
     "name": "stdout",
     "output_type": "stream",
     "text": [
      "Best Threshold=0.226749, F-Score=0.665, Precision=0.585, Recall=0.771\n"
     ]
    }
   ],
   "source": [
    "precision, recall, thresholds = precision_recall_curve(y_test, preds)\n",
    "fscore = (2 * precision * recall) / (precision + recall)\n",
    "# locate the index of the largest f score\n",
    "ix = np.argmax(fscore)\n",
    "print('Best Threshold=%f, F-Score=%.3f, Precision=%.3f, Recall=%.3f' % (thresholds[ix], \n",
    "                                                                        fscore[ix],\n",
    "                                                                        precision[ix],\n",
    "                                                                        recall[ix]))\n",
    "\n",
    "mean_rating = [fscore[ix], precision[ix], recall[ix], roc_auc_score(y_test, preds)]"
   ]
  },
  {
   "cell_type": "markdown",
   "metadata": {},
   "source": [
    "# Метрики у меня  почему-то просели. Меньше тех, которые были получены на занятии. Объяснения почему так случилось у меня нет"
   ]
  },
  {
   "cell_type": "code",
   "execution_count": 64,
   "metadata": {
    "id": "RhpQyBeK5SyE"
   },
   "outputs": [],
   "source": [
    "def plot_confusion_matrix(cm, classes,\n",
    "                          normalize=False,\n",
    "                          title='Confusion matrix',\n",
    "                          cmap=plt.cm.Blues):\n",
    "    \"\"\"\n",
    "    This function prints and plots the confusion matrix.\n",
    "    Normalization can be applied by setting `normalize=True`.\n",
    "    \"\"\"\n",
    "    plt.imshow(cm, interpolation='nearest', cmap=cmap)\n",
    "    plt.title(title)\n",
    "    plt.colorbar()\n",
    "    tick_marks = np.arange(len(classes))\n",
    "    plt.xticks(tick_marks, classes, rotation=45)\n",
    "    plt.yticks(tick_marks, classes)\n",
    "\n",
    "    if normalize:\n",
    "        cm = cm.astype('float') / cm.sum(axis=1)[:, np.newaxis]\n",
    "        print(\"Normalized confusion matrix\")\n",
    "    else:\n",
    "        print('Confusion matrix, without normalization')\n",
    "\n",
    "    print(cm)\n",
    "\n",
    "    thresh = cm.max() / 2.\n",
    "    for i, j in itertools.product(range(cm.shape[0]), range(cm.shape[1])):\n",
    "        plt.text(j, i, cm[i, j],\n",
    "                 horizontalalignment=\"center\",\n",
    "                 color=\"white\" if cm[i, j] > thresh else \"black\")\n",
    "\n",
    "    plt.tight_layout()\n",
    "    plt.ylabel('True label')\n",
    "    plt.xlabel('Predicted label')"
   ]
  },
  {
   "cell_type": "code",
   "execution_count": 65,
   "metadata": {
    "colab": {
     "base_uri": "https://localhost:8080/",
     "height": 644
    },
    "id": "hJWeWdjx5Syd",
    "outputId": "5a7ebca3-f6ea-49f4-e41a-2f38d29d05c5"
   },
   "outputs": [
    {
     "name": "stdout",
     "output_type": "stream",
     "text": [
      "Confusion matrix, without normalization\n",
      "[[1621  134]\n",
      " [  57  188]]\n"
     ]
    },
    {
     "data": {
      "image/png": "[encoded data removed]",
      "text/plain": [
       "<Figure size 720x576 with 2 Axes>"
      ]
     },
     "metadata": {
      "needs_background": "light"
     },
     "output_type": "display_data"
    }
   ],
   "source": [
    "#мы уже нашли ранее \"оптимальный\" порог, когда максимизировали f_score\n",
    "font = {'size' : 15}\n",
    "\n",
    "plt.rc('font', **font)\n",
    "\n",
    "cnf_matrix = confusion_matrix(y_test, preds>thresholds[ix])\n",
    "plt.figure(figsize=(10, 8))\n",
    "plot_confusion_matrix(cnf_matrix, classes=['Non-Churn', 'churn'],\n",
    "                      title='Confusion matrix')\n",
    "plt.savefig(\"conf_matrix.png\")\n",
    "plt.show()"
   ]
  },
  {
   "cell_type": "code",
   "execution_count": 67,
   "metadata": {
    "colab": {
     "base_uri": "https://localhost:8080/",
     "height": 34
    },
    "id": "8imnPmgb5Syf",
    "outputId": "44dff024-3bc2-4000-df16-37eb896b0dfb"
   },
   "outputs": [
    {
     "data": {
      "text/plain": [
       "0.9441804756090469"
      ]
     },
     "execution_count": 67,
     "metadata": {},
     "output_type": "execute_result"
    }
   ],
   "source": [
    "roc_auc_score(y_test, preds)"
   ]
  },
  {
   "cell_type": "markdown",
   "metadata": {},
   "source": [
    "Запомним ROC_AUC"
   ]
  },
  {
   "cell_type": "markdown",
   "metadata": {
    "id": "PaG7klLE_FA7"
   },
   "source": [
    "#### Модернизируем функцию get_user_embedding "
   ]
  },
  {
   "cell_type": "code",
   "execution_count": 68,
   "metadata": {
    "colab": {
     "base_uri": "https://localhost:8080/",
     "height": 102
    },
    "id": "SMPuypcq_M-o",
    "outputId": "fe411f23-631d-47c8-9c26-28184f47d980"
   },
   "outputs": [
    {
     "data": {
      "text/plain": [
       "array([0.        , 0.        , 0.        , 0.20621927, 0.0517183 ,\n",
       "       0.        , 0.07578565, 0.01375887, 0.        , 0.        ,\n",
       "       0.02200242, 0.        , 0.        , 0.        , 0.        ,\n",
       "       0.04555398, 0.        , 0.        , 0.        , 0.        ,\n",
       "       0.        , 0.        , 0.11203792, 0.        , 0.        ])"
      ]
     },
     "execution_count": 68,
     "metadata": {},
     "output_type": "execute_result"
    }
   ],
   "source": [
    "user_articles_list = users['articles'].iloc[33]\n",
    "\n",
    "def get_user_embedding(user_articles_list):\n",
    "    user_articles_list = eval(user_articles_list)\n",
    "    user_vector = np.array([doc_dict[doc_id] for doc_id in user_articles_list])\n",
    "    user_vector = np.median(user_vector, 0)\n",
    "    return user_vector\n",
    "\n",
    "get_user_embedding(user_articles_list)"
   ]
  },
  {
   "cell_type": "code",
   "execution_count": 70,
   "metadata": {
    "colab": {
     "base_uri": "https://localhost:8080/",
     "height": 34
    },
    "id": "Pty_th6x_Z3d",
    "outputId": "9a1a4bd5-1326-43b4-f760-0b48780db2b3"
   },
   "outputs": [
    {
     "name": "stdout",
     "output_type": "stream",
     "text": [
      "Best Threshold=0.244512, F-Score=0.771, Precision=0.699, Recall=0.861\n"
     ]
    }
   ],
   "source": [
    "user_embeddings = pd.DataFrame([i for i in users['articles'].apply(lambda x: get_user_embedding(x), 1)])\n",
    "user_embeddings.columns = ['topic_{}'.format(i) for i in range(25)]\n",
    "user_embeddings['uid'] = users['uid'].values\n",
    "user_embeddings = user_embeddings[['uid']+['topic_{}'.format(i) for i in range(25)]]\n",
    "\n",
    "X = pd.merge(user_embeddings, target, 'left')\n",
    "\n",
    "X_train, X_test, y_train, y_test = train_test_split(X[['topic_{}'.format(i) for i in range(25)]], \n",
    "                                                    X['churn'], random_state=0)\n",
    "\n",
    "logreg = LogisticRegression()\n",
    "#обучим наш пайплайн\n",
    "logreg.fit(X_train, y_train)\n",
    "\n",
    "preds = logreg.predict_proba(X_test)[:, 1]\n",
    "\n",
    "precision, recall, thresholds = precision_recall_curve(y_test, preds)\n",
    "fscore = (2 * precision * recall) / (precision + recall)\n",
    "# locate the index of the largest f score\n",
    "ix = np.argmax(fscore)\n",
    "print('Best Threshold=%f, F-Score=%.3f, Precision=%.3f, Recall=%.3f' % (thresholds[ix], \n",
    "                                                                        fscore[ix],\n",
    "                                                                        precision[ix],\n",
    "                                                                        recall[ix]))\n",
    "\n",
    "median_rating = [fscore[ix], precision[ix], recall[ix], roc_auc_score(y_test, preds)]"
   ]
  },
  {
   "cell_type": "code",
   "execution_count": 71,
   "metadata": {
    "colab": {
     "base_uri": "https://localhost:8080/",
     "height": 644
    },
    "id": "un4-IOTm_cdV",
    "outputId": "c0674d40-f94c-43b1-c435-3d919cad4793"
   },
   "outputs": [
    {
     "name": "stdout",
     "output_type": "stream",
     "text": [
      "Confusion matrix, without normalization\n",
      "[[1664   91]\n",
      " [  35  210]]\n"
     ]
    },
    {
     "data": {
      "image/png": "[encoded data removed]",
      "text/plain": [
       "<Figure size 720x576 with 2 Axes>"
      ]
     },
     "metadata": {
      "needs_background": "light"
     },
     "output_type": "display_data"
    }
   ],
   "source": [
    "font = {'size' : 15}\n",
    "\n",
    "plt.rc('font', **font)\n",
    "\n",
    "cnf_matrix = confusion_matrix(y_test, preds>thresholds[ix])\n",
    "plt.figure(figsize=(10, 8))\n",
    "plot_confusion_matrix(cnf_matrix, classes=['Non-Churn', 'churn'],\n",
    "                      title='Confusion matrix')\n",
    "plt.show()"
   ]
  },
  {
   "cell_type": "code",
   "execution_count": 72,
   "metadata": {
    "colab": {
     "base_uri": "https://localhost:8080/",
     "height": 34
    },
    "id": "O84IDhs0_gBu",
    "outputId": "8b199689-0efb-4584-bab6-e0dcbf7eeee2"
   },
   "outputs": [
    {
     "data": {
      "text/plain": [
       "0.9757939415082273"
      ]
     },
     "execution_count": 72,
     "metadata": {},
     "output_type": "execute_result"
    }
   ],
   "source": [
    "roc_auc_score(y_test, preds)"
   ]
  },
  {
   "cell_type": "markdown",
   "metadata": {},
   "source": [
    "Качество модели существенно улучшилось. Как видно из Confusion matrix существенно уменьшились значения False Negative и False Positive, что неплохо"
   ]
  },
  {
   "cell_type": "markdown",
   "metadata": {
    "id": "KTwc_1YkF4Gc"
   },
   "source": [
    "#### 3. Повторить п.2, но используя уже не медиану, а max"
   ]
  },
  {
   "cell_type": "code",
   "execution_count": 73,
   "metadata": {
    "colab": {
     "base_uri": "https://localhost:8080/",
     "height": 102
    },
    "id": "IixLTXRVF5fG",
    "outputId": "80721a81-6307-4c1e-a0a4-932309fc4cd4"
   },
   "outputs": [
    {
     "data": {
      "text/plain": [
       "array([0.15037397, 0.20019066, 0.56161183, 0.37683144, 0.10968208,\n",
       "       0.        , 0.30331859, 0.1812578 , 0.0162137 , 0.02466553,\n",
       "       0.10463899, 0.        , 0.2804836 , 0.18831196, 0.07096145,\n",
       "       0.07505371, 0.11805946, 0.07327631, 0.        , 0.        ,\n",
       "       0.08490866, 0.15340528, 0.27256307, 0.        , 0.01485694])"
      ]
     },
     "execution_count": 73,
     "metadata": {},
     "output_type": "execute_result"
    }
   ],
   "source": [
    "user_articles_list = users['articles'].iloc[33]\n",
    "# print(user_articles_list)\n",
    "\n",
    "def get_user_embedding(user_articles_list):\n",
    "    user_articles_list = eval(user_articles_list)\n",
    "    user_vector = np.array([doc_dict[doc_id] for doc_id in user_articles_list])\n",
    "#     print(user_vector)\n",
    "    user_vector = np.max(user_vector, 0)\n",
    "#     print('\\nuser_vector', user_vector)\n",
    "    return user_vector\n",
    "\n",
    "get_user_embedding(user_articles_list)"
   ]
  },
  {
   "cell_type": "code",
   "execution_count": 74,
   "metadata": {
    "colab": {
     "base_uri": "https://localhost:8080/",
     "height": 34
    },
    "id": "9OARxByiF_AW",
    "outputId": "6d10086f-b407-4c62-b21d-bd338ce985b8"
   },
   "outputs": [
    {
     "name": "stdout",
     "output_type": "stream",
     "text": [
      "Best Threshold=0.356698, F-Score=0.836, Precision=0.852, Recall=0.820\n"
     ]
    }
   ],
   "source": [
    "user_embeddings = pd.DataFrame([i for i in users['articles'].apply(lambda x: get_user_embedding(x), 1)])\n",
    "user_embeddings.columns = ['topic_{}'.format(i) for i in range(25)]\n",
    "user_embeddings['uid'] = users['uid'].values\n",
    "user_embeddings = user_embeddings[['uid']+['topic_{}'.format(i) for i in range(25)]]\n",
    "\n",
    "X = pd.merge(user_embeddings, target, 'left')\n",
    "\n",
    "X_train, X_test, y_train, y_test = train_test_split(X[['topic_{}'.format(i) for i in range(25)]], \n",
    "                                                    X['churn'], random_state=0)\n",
    "\n",
    "logreg = LogisticRegression()\n",
    "#обучим наш пайплайн\n",
    "logreg.fit(X_train, y_train)\n",
    "\n",
    "preds = logreg.predict_proba(X_test)[:, 1]\n",
    "\n",
    "precision, recall, thresholds = precision_recall_curve(y_test, preds)\n",
    "fscore = (2 * precision * recall) / (precision + recall)\n",
    "# locate the index of the largest f score\n",
    "ix = np.argmax(fscore)\n",
    "print('Best Threshold=%f, F-Score=%.3f, Precision=%.3f, Recall=%.3f' % (thresholds[ix], \n",
    "                                                                        fscore[ix],\n",
    "                                                                        precision[ix],\n",
    "                                                                        recall[ix]))\n",
    "\n",
    "max_rating = [fscore[ix], precision[ix], recall[ix], roc_auc_score(y_test, preds)]"
   ]
  },
  {
   "cell_type": "code",
   "execution_count": 75,
   "metadata": {
    "colab": {
     "base_uri": "https://localhost:8080/",
     "height": 34
    },
    "id": "GqgHijRUGCqu",
    "outputId": "96cf4606-e386-4b21-a708-cb5eddf2d01d"
   },
   "outputs": [
    {
     "data": {
      "text/plain": [
       "0.8357588357588358"
      ]
     },
     "execution_count": 75,
     "metadata": {},
     "output_type": "execute_result"
    }
   ],
   "source": [
    "fscore[ix]"
   ]
  },
  {
   "cell_type": "code",
   "execution_count": 78,
   "metadata": {
    "colab": {
     "base_uri": "https://localhost:8080/",
     "height": 644
    },
    "id": "EfTaT9cxGFID",
    "outputId": "0428445c-ffff-4522-8d07-ac7be11e4b0f"
   },
   "outputs": [
    {
     "name": "stdout",
     "output_type": "stream",
     "text": [
      "Confusion matrix, without normalization\n",
      "[[1720   35]\n",
      " [  45  200]]\n"
     ]
    },
    {
     "data": {
      "image/png": "[encoded data removed]",
      "text/plain": [
       "<Figure size 720x576 with 2 Axes>"
      ]
     },
     "metadata": {
      "needs_background": "light"
     },
     "output_type": "display_data"
    }
   ],
   "source": [
    "font = {'size' : 15}\n",
    "\n",
    "plt.rc('font', **font)\n",
    "\n",
    "cnf_matrix = confusion_matrix(y_test, preds>thresholds[ix])\n",
    "plt.figure(figsize=(10, 8))\n",
    "plot_confusion_matrix(cnf_matrix, classes=['Non-Churn', 'churn'],\n",
    "                      title='Confusion matrix')\n",
    "plt.show()"
   ]
  },
  {
   "cell_type": "code",
   "execution_count": 79,
   "metadata": {
    "colab": {
     "base_uri": "https://localhost:8080/",
     "height": 34
    },
    "id": "QN3FhT4TGIMm",
    "outputId": "aa1554dc-205a-453f-ba18-4077a16517e6"
   },
   "outputs": [
    {
     "data": {
      "text/plain": [
       "0.982398976684691"
      ]
     },
     "execution_count": 79,
     "metadata": {},
     "output_type": "execute_result"
    }
   ],
   "source": [
    "roc_auc_score(y_test, preds)"
   ]
  },
  {
   "cell_type": "markdown",
   "metadata": {},
   "source": [
    "#### 4. (опциональное, если очень хочется) Воспользовавшись полученными знаниями из п.1, повторить пункт 2, но уже взвешивая новости по tfidf (подсказка: нужно получить веса-коэффициенты для каждого документа. Не все документы одинаково информативны и несут какой-то положительный сигнал). Подсказка 2 - нужен именно idf, как вес."
   ]
  },
  {
   "cell_type": "markdown",
   "metadata": {},
   "source": [
    "Пока не разобрался как это сделать"
   ]
  },
  {
   "cell_type": "markdown",
   "metadata": {},
   "source": [
    "#### 5. Сформировать на выходе единую таблицу, сравнивающую качество 3 разных метода получения эмбедингов пользователей: mean, median, max, idf_mean по метрикам roc_auc, precision, recall, f_score"
   ]
  },
  {
   "cell_type": "code",
   "execution_count": 81,
   "metadata": {},
   "outputs": [
    {
     "data": {
      "text/html": [
       "<div>\n",
       "<style scoped>\n",
       "    .dataframe tbody tr th:only-of-type {\n",
       "        vertical-align: middle;\n",
       "    }\n",
       "\n",
       "    .dataframe tbody tr th {\n",
       "        vertical-align: top;\n",
       "    }\n",
       "\n",
       "    .dataframe thead th {\n",
       "        text-align: right;\n",
       "    }\n",
       "</style>\n",
       "<table border=\"1\" class=\"dataframe\">\n",
       "  <thead>\n",
       "    <tr style=\"text-align: right;\">\n",
       "      <th></th>\n",
       "      <th>f1_score</th>\n",
       "      <th>precision</th>\n",
       "      <th>recall</th>\n",
       "      <th>roc_auc_score</th>\n",
       "    </tr>\n",
       "  </thead>\n",
       "  <tbody>\n",
       "    <tr>\n",
       "      <th>mean</th>\n",
       "      <td>0.665493</td>\n",
       "      <td>0.585139</td>\n",
       "      <td>0.771429</td>\n",
       "      <td>0.944180</td>\n",
       "    </tr>\n",
       "    <tr>\n",
       "      <th>median</th>\n",
       "      <td>0.771481</td>\n",
       "      <td>0.698675</td>\n",
       "      <td>0.861224</td>\n",
       "      <td>0.975794</td>\n",
       "    </tr>\n",
       "    <tr>\n",
       "      <th>max</th>\n",
       "      <td>0.835759</td>\n",
       "      <td>0.851695</td>\n",
       "      <td>0.820408</td>\n",
       "      <td>0.982399</td>\n",
       "    </tr>\n",
       "  </tbody>\n",
       "</table>\n",
       "</div>"
      ],
      "text/plain": [
       "        f1_score  precision    recall  roc_auc_score\n",
       "mean    0.665493   0.585139  0.771429       0.944180\n",
       "median  0.771481   0.698675  0.861224       0.975794\n",
       "max     0.835759   0.851695  0.820408       0.982399"
      ]
     },
     "execution_count": 81,
     "metadata": {},
     "output_type": "execute_result"
    }
   ],
   "source": [
    "Table = pd.DataFrame({'mean': mean_rating, 'median': median_rating, 'max': max_rating}).T\n",
    "Table.columns=['f1_score', 'precision', 'recall', 'roc_auc_score']\n",
    "Table"
   ]
  },
  {
   "cell_type": "markdown",
   "metadata": {},
   "source": [
    "#### 6. Сделать самостоятельные выводы и предположения о том, почему тот или ной способ оказался эффективнее остальных"
   ]
  },
  {
   "cell_type": "markdown",
   "metadata": {},
   "source": [
    "По таблице видно, что после замены на медиану или максимум метрики качества модели существенно улучшились. При этом наибольший ROC_AUC и F1_score наблюдается при замене на максимум. Среднее значение показало себя хуже всех.\n",
    "\n",
    "Если сравнивать медиану и максимум, как видно из Confusion matrix, при использовании максимума существенно уменьшилось значение False Positive, при этом False Negative увеличилось. \n",
    "\n",
    "С учетом специки задачи, наиболее предпочительной моделью является 3-й случай с использованием max"
   ]
  },
  {
   "cell_type": "code",
   "execution_count": null,
   "metadata": {},
   "outputs": [],
   "source": []
  }
 ],
 "metadata": {
  "accelerator": "GPU",
  "colab": {
   "collapsed_sections": [],
   "name": "HW_задание2",
   "provenance": []
  },
  "kernelspec": {
   "display_name": "Python 3",
   "language": "python",
   "name": "python3"
  },
  "language_info": {
   "codemirror_mode": {
    "name": "ipython",
    "version": 3
   },
   "file_extension": ".py",
   "mimetype": "text/x-python",
   "name": "python",
   "nbconvert_exporter": "python",
   "pygments_lexer": "ipython3",
   "version": "3.8.3"
  }
 },
 "nbformat": 4,
 "nbformat_minor": 1
}
