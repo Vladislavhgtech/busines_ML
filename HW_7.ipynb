{
 "cells": [
  {
   "cell_type": "markdown",
   "metadata": {},
   "source": [
    "###### 1. взять любой набор данных для бинарной классификации (можно скачать один из модельных с https://archive.ics.uci.edu/ml/datasets.php)\n",
    "###### 2. сделать feature engineering\n",
    "###### 3. обучить любой классификатор (какой вам нравится)\n",
    "###### 4. далее разделить ваш набор данных на два множества: P (positives) и U (unlabeled). Причем брать нужно не все положительные (класс 1) примеры, а только лишь часть\n",
    "###### 5. применить random negative sampling для построения классификатора в новых условиях\n",
    "###### 6. сравнить качество с решением из пункта 4 (построить отчет - таблицу метрик)"
   ]
  },
  {
   "cell_type": "markdown",
   "metadata": {},
   "source": [
    "Для работы был скачан dataset отсюда https://www.kaggle.com/keesvb/balanced-bank"
   ]
  },
  {
   "cell_type": "code",
   "execution_count": 3,
   "metadata": {},
   "outputs": [
    {
     "data": {
      "text/html": [
       "        <script type=\"text/javascript\">\n",
       "        window.PlotlyConfig = {MathJaxConfig: 'local'};\n",
       "        if (window.MathJax) {MathJax.Hub.Config({SVG: {font: \"STIX-Web\"}});}\n",
       "        if (typeof require !== 'undefined') {\n",
       "        require.undef(\"plotly\");\n",
       "        requirejs.config({\n",
       "            paths: {\n",
       "                'plotly': ['https://cdn.plot.ly/plotly-latest.min']\n",
       "            }\n",
       "        });\n",
       "        require(['plotly'], function(Plotly) {\n",
       "            window._Plotly = Plotly;\n",
       "        });\n",
       "        }\n",
       "        </script>\n",
       "        "
      ]
     },
     "metadata": {},
     "output_type": "display_data"
    }
   ],
   "source": [
    "import numpy as np\n",
    "import pandas as pd\n",
    "from sklearn.model_selection import train_test_split\n",
    "from sklearn.metrics import accuracy_score, precision_score, recall_score, roc_auc_score, f1_score\n",
    "import lightgbm\n",
    "import plotly.offline as py#visualization\n",
    "py.init_notebook_mode(connected=True)#visualization\n",
    "import plotly.graph_objs as go#visualization\n",
    "import plotly.tools as tls#visualization\n",
    "import plotly.figure_factory as ff#visualization"
   ]
  },
  {
   "cell_type": "code",
   "execution_count": 4,
   "metadata": {},
   "outputs": [],
   "source": [
    "def evaluate_results(y_test, y_predict):\n",
    "    print('Classification results:')\n",
    "    f1 = f1_score(y_test, y_predict)\n",
    "    print(\"f1: %.2f%%\" % (f1 * 100.0)) \n",
    "    roc = roc_auc_score(y_test, y_predict)\n",
    "    print(\"roc: %.2f%%\" % (roc * 100.0)) \n",
    "    rec = recall_score(y_test, y_predict, average='binary')\n",
    "    print(\"recall: %.2f%%\" % (rec * 100.0)) \n",
    "    prc = precision_score(y_test, y_predict, average='binary')\n",
    "    print(\"precision: %.2f%%\" % (prc * 100.0))"
   ]
  },
  {
   "cell_type": "code",
   "execution_count": 5,
   "metadata": {},
   "outputs": [],
   "source": [
    "# https://archive.ics.uci.edu/ml/datasets/bank+marketing - описание датасета\n",
    "# дата-сет оказался почищенным и сбалансированным\n",
    "data = pd.read_csv('balanced_bank.csv')"
   ]
  },
  {
   "cell_type": "code",
   "execution_count": 6,
   "metadata": {},
   "outputs": [
    {
     "data": {
      "text/html": [
       "<div>\n",
       "<style scoped>\n",
       "    .dataframe tbody tr th:only-of-type {\n",
       "        vertical-align: middle;\n",
       "    }\n",
       "\n",
       "    .dataframe tbody tr th {\n",
       "        vertical-align: top;\n",
       "    }\n",
       "\n",
       "    .dataframe thead th {\n",
       "        text-align: right;\n",
       "    }\n",
       "</style>\n",
       "<table border=\"1\" class=\"dataframe\">\n",
       "  <thead>\n",
       "    <tr style=\"text-align: right;\">\n",
       "      <th></th>\n",
       "      <th>Unnamed: 0</th>\n",
       "      <th>age</th>\n",
       "      <th>job</th>\n",
       "      <th>marital</th>\n",
       "      <th>education</th>\n",
       "      <th>default</th>\n",
       "      <th>housing</th>\n",
       "      <th>loan</th>\n",
       "      <th>contact</th>\n",
       "      <th>month</th>\n",
       "      <th>...</th>\n",
       "      <th>campaign</th>\n",
       "      <th>pdays</th>\n",
       "      <th>previous</th>\n",
       "      <th>poutcome</th>\n",
       "      <th>emp.var.rate</th>\n",
       "      <th>cons.price.idx</th>\n",
       "      <th>cons.conf.idx</th>\n",
       "      <th>euribor3m</th>\n",
       "      <th>nr.employed</th>\n",
       "      <th>y</th>\n",
       "    </tr>\n",
       "  </thead>\n",
       "  <tbody>\n",
       "    <tr>\n",
       "      <th>0</th>\n",
       "      <td>34579</td>\n",
       "      <td>35</td>\n",
       "      <td>admin.</td>\n",
       "      <td>single</td>\n",
       "      <td>university.degree</td>\n",
       "      <td>no</td>\n",
       "      <td>yes</td>\n",
       "      <td>no</td>\n",
       "      <td>cellular</td>\n",
       "      <td>may</td>\n",
       "      <td>...</td>\n",
       "      <td>1</td>\n",
       "      <td>999</td>\n",
       "      <td>1</td>\n",
       "      <td>failure</td>\n",
       "      <td>-1.8</td>\n",
       "      <td>92.893</td>\n",
       "      <td>-46.2</td>\n",
       "      <td>1.266</td>\n",
       "      <td>5099.1</td>\n",
       "      <td>no</td>\n",
       "    </tr>\n",
       "    <tr>\n",
       "      <th>1</th>\n",
       "      <td>446</td>\n",
       "      <td>42</td>\n",
       "      <td>technician</td>\n",
       "      <td>married</td>\n",
       "      <td>professional.course</td>\n",
       "      <td>no</td>\n",
       "      <td>no</td>\n",
       "      <td>no</td>\n",
       "      <td>telephone</td>\n",
       "      <td>may</td>\n",
       "      <td>...</td>\n",
       "      <td>1</td>\n",
       "      <td>999</td>\n",
       "      <td>0</td>\n",
       "      <td>nonexistent</td>\n",
       "      <td>1.1</td>\n",
       "      <td>93.994</td>\n",
       "      <td>-36.4</td>\n",
       "      <td>4.857</td>\n",
       "      <td>5191.0</td>\n",
       "      <td>yes</td>\n",
       "    </tr>\n",
       "  </tbody>\n",
       "</table>\n",
       "<p>2 rows × 22 columns</p>\n",
       "</div>"
      ],
      "text/plain": [
       "   Unnamed: 0  age         job  marital            education default housing  \\\n",
       "0       34579   35      admin.   single    university.degree      no     yes   \n",
       "1         446   42  technician  married  professional.course      no      no   \n",
       "\n",
       "  loan    contact month  ... campaign  pdays  previous     poutcome  \\\n",
       "0   no   cellular   may  ...        1    999         1      failure   \n",
       "1   no  telephone   may  ...        1    999         0  nonexistent   \n",
       "\n",
       "   emp.var.rate cons.price.idx  cons.conf.idx  euribor3m  nr.employed    y  \n",
       "0          -1.8         92.893          -46.2      1.266       5099.1   no  \n",
       "1           1.1         93.994          -36.4      4.857       5191.0  yes  \n",
       "\n",
       "[2 rows x 22 columns]"
      ]
     },
     "execution_count": 6,
     "metadata": {},
     "output_type": "execute_result"
    }
   ],
   "source": [
    "data.head(2)"
   ]
  },
  {
   "cell_type": "code",
   "execution_count": 7,
   "metadata": {},
   "outputs": [],
   "source": [
    "data = data.drop(['Unnamed: 0'], axis=1)"
   ]
  },
  {
   "cell_type": "code",
   "execution_count": 8,
   "metadata": {},
   "outputs": [
    {
     "data": {
      "text/plain": [
       "1    4640\n",
       "0    4640\n",
       "Name: y, dtype: int64"
      ]
     },
     "execution_count": 8,
     "metadata": {},
     "output_type": "execute_result"
    }
   ],
   "source": [
    "data['y'].loc[data.y == 'no'] = 0\n",
    "data['y'].loc[data.y == 'yes'] = 1\n",
    "data['y'].value_counts()"
   ]
  },
  {
   "cell_type": "code",
   "execution_count": 9,
   "metadata": {},
   "outputs": [],
   "source": [
    "def age_lab(data) :\n",
    "    \n",
    "    if data[\"age\"] <= 21 :\n",
    "        return \"Tenure_0-21\"\n",
    "    elif (data[\"age\"] > 21) & (data[\"age\"] <= 35 ):\n",
    "        return \"age_21-35\"\n",
    "    elif (data[\"age\"] > 35) & (data[\"age\"] <= 50) :\n",
    "        return \"age_35-50\"\n",
    "    elif (data[\"age\"] > 50) & (data[\"age\"] <= 65) :\n",
    "        return \"age_50-65\"\n",
    "    elif data[\"age\"] > 65 :\n",
    "        return \"age_gt_65\"\n",
    "    \n",
    "data[\"age_group\"] = data.apply(lambda data:age_lab(data),\n",
    "                                      axis = 1)\n",
    "\n",
    "data.drop(columns=['age'] , inplace=True, axis=1)"
   ]
  },
  {
   "cell_type": "code",
   "execution_count": 10,
   "metadata": {},
   "outputs": [
    {
     "name": "stdout",
     "output_type": "stream",
     "text": [
      "<class 'pandas.core.frame.DataFrame'>\n",
      "RangeIndex: 9280 entries, 0 to 9279\n",
      "Data columns (total 21 columns):\n",
      " #   Column          Non-Null Count  Dtype  \n",
      "---  ------          --------------  -----  \n",
      " 0   job             9280 non-null   object \n",
      " 1   marital         9280 non-null   object \n",
      " 2   education       9280 non-null   object \n",
      " 3   default         9280 non-null   object \n",
      " 4   housing         9280 non-null   object \n",
      " 5   loan            9280 non-null   object \n",
      " 6   contact         9280 non-null   object \n",
      " 7   month           9280 non-null   object \n",
      " 8   day_of_week     9280 non-null   object \n",
      " 9   duration        9280 non-null   int64  \n",
      " 10  campaign        9280 non-null   int64  \n",
      " 11  pdays           9280 non-null   int64  \n",
      " 12  previous        9280 non-null   int64  \n",
      " 13  poutcome        9280 non-null   object \n",
      " 14  emp.var.rate    9280 non-null   float64\n",
      " 15  cons.price.idx  9280 non-null   float64\n",
      " 16  cons.conf.idx   9280 non-null   float64\n",
      " 17  euribor3m       9280 non-null   float64\n",
      " 18  nr.employed     9280 non-null   float64\n",
      " 19  y               9280 non-null   object \n",
      " 20  age_group       9280 non-null   object \n",
      "dtypes: float64(5), int64(4), object(12)\n",
      "memory usage: 1.5+ MB\n"
     ]
    }
   ],
   "source": [
    "data.info()"
   ]
  },
  {
   "cell_type": "code",
   "execution_count": 11,
   "metadata": {},
   "outputs": [
    {
     "data": {
      "text/plain": [
       "job                 12\n",
       "marital              4\n",
       "education            8\n",
       "default              2\n",
       "housing              3\n",
       "loan                 3\n",
       "contact              2\n",
       "month               10\n",
       "day_of_week          5\n",
       "duration          1395\n",
       "campaign            30\n",
       "pdays               26\n",
       "previous             7\n",
       "poutcome             3\n",
       "emp.var.rate        10\n",
       "cons.price.idx      26\n",
       "cons.conf.idx       26\n",
       "euribor3m          293\n",
       "nr.employed         11\n",
       "y                    2\n",
       "age_group            5\n",
       "dtype: int64"
      ]
     },
     "execution_count": 11,
     "metadata": {},
     "output_type": "execute_result"
    }
   ],
   "source": [
    "data.nunique()"
   ]
  },
  {
   "cell_type": "code",
   "execution_count": 12,
   "metadata": {},
   "outputs": [],
   "source": [
    "cat_cols = data.select_dtypes(['object']).columns\n",
    "num_cols = data.select_dtypes(['float64', 'int64']).columns\n",
    "data[cat_cols] = data[cat_cols].astype('category')"
   ]
  },
  {
   "cell_type": "code",
   "execution_count": 13,
   "metadata": {},
   "outputs": [],
   "source": [
    "pos = data.loc[data['y']==1]\n",
    "neg = data.loc[data['y']==0]"
   ]
  },
  {
   "cell_type": "markdown",
   "metadata": {},
   "source": [
    "#function  for pie plot for customer attrition types\n",
    "def plot_pie(column) :\n",
    "    \n",
    "    trace1 = go.Pie(values  = pos[column].value_counts().values.tolist(),\n",
    "                    labels  = pos[column].value_counts().keys().tolist(),\n",
    "                    hoverinfo = \"label+percent+name\",\n",
    "                    domain  = dict(x = [0,.48]),\n",
    "                    name    = \"Subscribed\",\n",
    "                    marker  = dict(line = dict(width = 2,\n",
    "                                               color = \"rgb(243,243,243)\")\n",
    "                                  ),\n",
    "                    hole    = .6\n",
    "                   )\n",
    "    trace2 = go.Pie(values  = neg[column].value_counts().values.tolist(),\n",
    "                    labels  = neg[column].value_counts().keys().tolist(),\n",
    "                    hoverinfo = \"label+percent+name\",\n",
    "                    marker  = dict(line = dict(width = 2,\n",
    "                                               color = \"rgb(243,243,243)\")\n",
    "                                  ),\n",
    "                    domain  = dict(x = [.52,1]),\n",
    "                    hole    = .6,\n",
    "                    name    = \"Non subscribed\" \n",
    "                   )\n",
    "\n",
    "\n",
    "    layout = go.Layout(dict(title = column + \" distribution in subscribtion \",\n",
    "                            plot_bgcolor  = \"rgb(243,243,243)\",\n",
    "                            paper_bgcolor = \"rgb(243,243,243)\",\n",
    "                            annotations = [dict(text = \"subs\",\n",
    "                                                font = dict(size = 13),\n",
    "                                                showarrow = False,\n",
    "                                                x = .15, y = .5),\n",
    "                                           dict(text = \"Non subs\",\n",
    "                                                font = dict(size = 13),\n",
    "                                                showarrow = False,\n",
    "                                                x = .88,y = .5\n",
    "                                               )\n",
    "                                          ]\n",
    "                           )\n",
    "                      )\n",
    "    data = [trace1,trace2]\n",
    "    fig  = go.Figure(data = data,layout = layout)\n",
    "    py.iplot(fig)\n",
    "\n",
    "\n",
    "#function  for histogram for customer attrition types\n",
    "def histogram(column) :\n",
    "    trace1 = go.Histogram(x  = pos[column],\n",
    "                          histnorm= \"percent\",\n",
    "                          name = \"Subs\",\n",
    "                          marker = dict(line = dict(width = .5,\n",
    "                                                    color = \"black\"\n",
    "                                                    )\n",
    "                                        ),\n",
    "                         opacity = .9 \n",
    "                         ) \n",
    "    \n",
    "    trace2 = go.Histogram(x  = neg[column],\n",
    "                          histnorm = \"percent\",\n",
    "                          name = \"Non subs\",\n",
    "                          marker = dict(line = dict(width = .5,\n",
    "                                              color = \"black\"\n",
    "                                             )\n",
    "                                 ),\n",
    "                          opacity = .9\n",
    "                         )\n",
    "    \n",
    "    data = [trace1,trace2]\n",
    "    layout = go.Layout(dict(title =column + \" distribution in subs \",\n",
    "                            plot_bgcolor  = \"rgb(243,243,243)\",\n",
    "                            paper_bgcolor = \"rgb(243,243,243)\",\n",
    "                            xaxis = dict(gridcolor = 'rgb(255, 255, 255)',\n",
    "                                             title = column,\n",
    "                                             zerolinewidth=1,\n",
    "                                             ticklen=5,\n",
    "                                             gridwidth=2\n",
    "                                            ),\n",
    "                            yaxis = dict(gridcolor = 'rgb(255, 255, 255)',\n",
    "                                             title = \"percent\",\n",
    "                                             zerolinewidth=1,\n",
    "                                             ticklen=5,\n",
    "                                             gridwidth=2\n",
    "                                            ),\n",
    "                           )\n",
    "                      )\n",
    "    fig  = go.Figure(data=data,layout=layout)\n",
    "    \n",
    "    py.iplot(fig)\n",
    "    \n",
    "#for all categorical columns plot pie\n",
    "for i in cat_cols :\n",
    "    plot_pie(i)\n"
   ]
  },
  {
   "cell_type": "code",
   "execution_count": 14,
   "metadata": {},
   "outputs": [],
   "source": [
    "train, test = train_test_split(data, test_size=0.3, random_state=10)"
   ]
  },
  {
   "cell_type": "code",
   "execution_count": 15,
   "metadata": {},
   "outputs": [],
   "source": [
    "x_train = train.drop(columns=['y'], axis=1)\n",
    "x_test = test.drop(columns=['y'], axis=1)\n",
    "y_train = train['y']\n",
    "y_test = test['y']"
   ]
  },
  {
   "cell_type": "code",
   "execution_count": 16,
   "metadata": {},
   "outputs": [],
   "source": [
    "model = lightgbm.LGBMClassifier(random_state=10)"
   ]
  },
  {
   "cell_type": "code",
   "execution_count": 17,
   "metadata": {},
   "outputs": [
    {
     "data": {
      "text/plain": [
       "LGBMClassifier(random_state=10)"
      ]
     },
     "execution_count": 17,
     "metadata": {},
     "output_type": "execute_result"
    }
   ],
   "source": [
    "model.fit(x_train, y_train)"
   ]
  },
  {
   "cell_type": "code",
   "execution_count": 18,
   "metadata": {},
   "outputs": [],
   "source": [
    "pred = model.predict(x_test)"
   ]
  },
  {
   "cell_type": "code",
   "execution_count": 19,
   "metadata": {},
   "outputs": [
    {
     "name": "stdout",
     "output_type": "stream",
     "text": [
      "Classification results:\n",
      "f1: 88.71%\n",
      "roc: 88.16%\n",
      "recall: 92.42%\n",
      "precision: 85.28%\n"
     ]
    }
   ],
   "source": [
    "evaluate_results(y_test, pred)"
   ]
  },
  {
   "cell_type": "code",
   "execution_count": 20,
   "metadata": {},
   "outputs": [],
   "source": [
    "mod_data = data.copy()"
   ]
  },
  {
   "cell_type": "code",
   "execution_count": 21,
   "metadata": {},
   "outputs": [],
   "source": [
    "pos_ind = np.where(mod_data['y'].values == 1)[0]"
   ]
  },
  {
   "cell_type": "code",
   "execution_count": 22,
   "metadata": {},
   "outputs": [],
   "source": [
    "pos_sample_len = int(np.ceil(0.25 * len(pos_ind)))"
   ]
  },
  {
   "cell_type": "code",
   "execution_count": 23,
   "metadata": {},
   "outputs": [],
   "source": [
    "pos_sample = pos_ind[:pos_sample_len]"
   ]
  },
  {
   "cell_type": "code",
   "execution_count": 24,
   "metadata": {},
   "outputs": [],
   "source": [
    "mod_data['class_test'] = -1\n",
    "mod_data.loc[pos_sample, 'class_test'] = 1"
   ]
  },
  {
   "cell_type": "code",
   "execution_count": 25,
   "metadata": {},
   "outputs": [],
   "source": [
    "# x_data = mod_data.drop(['y','class_test'], axis=1) # just the X \n",
    "# y_labeled = mod_data['class_test'] # new class (just the P & U)\n",
    "# y_positive = mod_data['y'] # original class"
   ]
  },
  {
   "cell_type": "code",
   "execution_count": 26,
   "metadata": {},
   "outputs": [
    {
     "name": "stdout",
     "output_type": "stream",
     "text": [
      "(1160, 22) (1160, 22)\n"
     ]
    }
   ],
   "source": [
    "mod_data = mod_data.sample(frac=1)\n",
    "neg_sample = mod_data[mod_data['class_test']==-1][:len(mod_data[mod_data['class_test']==1])]\n",
    "neg_sample['y'] = 0 # считаем неразмеченные данные за 0\n",
    "sample_test = mod_data[mod_data['class_test']==-1][len(mod_data[mod_data['class_test']==1]):]\n",
    "pos_sample = mod_data[mod_data['class_test']==1]\n",
    "print(neg_sample.shape, pos_sample.shape)\n",
    "sample_train = pd.concat([neg_sample, pos_sample]).sample(frac=1)"
   ]
  },
  {
   "cell_type": "code",
   "execution_count": 27,
   "metadata": {},
   "outputs": [
    {
     "name": "stdout",
     "output_type": "stream",
     "text": [
      "Classification results:\n",
      "f1: 78.35%\n",
      "roc: 81.26%\n",
      "recall: 75.38%\n",
      "precision: 81.57%\n"
     ]
    }
   ],
   "source": [
    "model.fit(sample_train.drop(['y', 'class_test'], axis=1), \n",
    "          sample_train['y'].values)\n",
    "\n",
    "y_predict = model.predict(sample_test.drop(['y', 'class_test'], axis=1))\n",
    "                          \n",
    "evaluate_results(sample_test['y'], y_predict)"
   ]
  },
  {
   "cell_type": "code",
   "execution_count": null,
   "metadata": {},
   "outputs": [],
   "source": []
  },
  {
   "cell_type": "code",
   "execution_count": null,
   "metadata": {},
   "outputs": [],
   "source": []
  }
 ],
 "metadata": {
  "kernelspec": {
   "display_name": "Python 3",
   "language": "python",
   "name": "python3"
  },
  "language_info": {
   "codemirror_mode": {
    "name": "ipython",
    "version": 3
   },
   "file_extension": ".py",
   "mimetype": "text/x-python",
   "name": "python",
   "nbconvert_exporter": "python",
   "pygments_lexer": "ipython3",
   "version": "3.8.3"
  }
 },
 "nbformat": 4,
 "nbformat_minor": 2
}
